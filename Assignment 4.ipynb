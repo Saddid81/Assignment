{
 "cells": [
  {
   "cell_type": "markdown",
   "metadata": {},
   "source": [
    "### 1.1 Write a Python Program (with class concepts) to find the area of the triangle using the below formula.\n",
    "\n",
    "area = (s*(s-a)*(s-b)*(s-c))^0.5\n",
    "\n",
    "Function to take the length of the sides of triangle from user should be defined in the parent\n",
    "class and function to calculate the area should be defined in subclass."
   ]
  },
  {
   "cell_type": "code",
   "execution_count": 35,
   "metadata": {},
   "outputs": [],
   "source": [
    "class triangle:\n",
    "    def triangle_sides(self):\n",
    "        sides= input(\"Enter the side values of a triangle. Please left a space between them: \\n\")\n",
    "        side= sides.split()\n",
    "        self.a= float(side[0])\n",
    "        self.b= float(side[1])\n",
    "        self.c= float(side[2])\n",
    "            \n",
    "class calc(triangle):\n",
    "    def per(self):\n",
    "        self.s=self.a+self.b+self.c\n",
    "        return self.s\n",
    "        \n",
    "    def area(self):\n",
    "        calc.per(self)\n",
    "        val = (self.s*(self.s-self.a)*(self.s-self.b)*(self.s-self.c)) ** 0.5\n",
    "        return val"
   ]
  },
  {
   "cell_type": "code",
   "execution_count": 36,
   "metadata": {},
   "outputs": [
    {
     "name": "stdout",
     "output_type": "stream",
     "text": [
      "Enter the side values of a triangle. Please left a space between them: \n",
      "6 6 8\n"
     ]
    }
   ],
   "source": [
    "calculus=calc()\n",
    "calculus.triangle_sides()   "
   ]
  },
  {
   "cell_type": "code",
   "execution_count": 37,
   "metadata": {},
   "outputs": [
    {
     "name": "stdout",
     "output_type": "stream",
     "text": [
      "The triangle area is 216.89 cm²\n"
     ]
    }
   ],
   "source": [
    "print(\"The triangle area is {:.2f} cm²\". format(calculus.area()))"
   ]
  },
  {
   "cell_type": "markdown",
   "metadata": {},
   "source": [
    "### 1.2 Write a function filter_long_words() that takes a list of words and an integer n and returns the list of words that are longer than n."
   ]
  },
  {
   "cell_type": "code",
   "execution_count": 71,
   "metadata": {},
   "outputs": [],
   "source": [
    "def filter_long_words(lista, n):\n",
    "    ready=[i for i in lista if len(i)>n ]\n",
    "    return ready"
   ]
  },
  {
   "cell_type": "code",
   "execution_count": 72,
   "metadata": {},
   "outputs": [
    {
     "name": "stdout",
     "output_type": "stream",
     "text": [
      "['beautiful', 'wonderful']\n"
     ]
    }
   ],
   "source": [
    "my_list= [\"Hello\",\"beautiful\",\"and\",\"wonderful\",\"world\"]\n",
    "print(filter_long_words(my_list,5))"
   ]
  },
  {
   "cell_type": "markdown",
   "metadata": {},
   "source": [
    "### 2.1 Write a Python program using function concept that maps list of words into a list of integers representing the lengths of the corresponding words .\n",
    "Hint: If a list [ ab,cde,erty] is passed on to the python function output should come as [2,3,4]\n",
    "Here 2,3 and 4 are the lengths of the words in the list."
   ]
  },
  {
   "cell_type": "code",
   "execution_count": 73,
   "metadata": {},
   "outputs": [],
   "source": [
    "def map_list_words(lista):\n",
    "    ready=[len(i) for i in lista]\n",
    "    return ready"
   ]
  },
  {
   "cell_type": "code",
   "execution_count": 83,
   "metadata": {},
   "outputs": [
    {
     "name": "stdout",
     "output_type": "stream",
     "text": [
      "[5, 9, 3, 9, 5]\n"
     ]
    }
   ],
   "source": [
    "my_list= [\"Hello\",\"beautiful\",\"and\",\"wonderful\",\"world\"]\n",
    "print(map_list_words(my_list))"
   ]
  },
  {
   "cell_type": "code",
   "execution_count": 79,
   "metadata": {},
   "outputs": [],
   "source": [
    "def map_list_words_1(lista):\n",
    "    ready1=map(len,lista)\n",
    "    return list(ready1)"
   ]
  },
  {
   "cell_type": "code",
   "execution_count": 82,
   "metadata": {},
   "outputs": [
    {
     "name": "stdout",
     "output_type": "stream",
     "text": [
      "[5, 9, 3, 9, 5]\n"
     ]
    }
   ],
   "source": [
    "my_list= [\"Hello\",\"beautiful\",\"and\",\"wonderful\",\"world\"]\n",
    "print(map_list_words_1(my_list))"
   ]
  },
  {
   "cell_type": "markdown",
   "metadata": {},
   "source": [
    "### 2.2 Write a Python function which takes a character (i.e. a string of length 1) and returns True if it is a vowel, False otherwise."
   ]
  },
  {
   "cell_type": "code",
   "execution_count": 94,
   "metadata": {},
   "outputs": [],
   "source": [
    "def vowel(letter):\n",
    "    v=[\"a\",\"e\",\"i\",\"o\",\"u\",\"A\",\"E\",\"I\",\"O\",\"U\"]\n",
    "    try:\n",
    "        v.index(letter)\n",
    "        return True\n",
    "    except ValueError:\n",
    "        return False"
   ]
  },
  {
   "cell_type": "code",
   "execution_count": 97,
   "metadata": {},
   "outputs": [
    {
     "data": {
      "text/plain": [
       "True"
      ]
     },
     "execution_count": 97,
     "metadata": {},
     "output_type": "execute_result"
    }
   ],
   "source": [
    "vowel(\"E\")"
   ]
  },
  {
   "cell_type": "code",
   "execution_count": null,
   "metadata": {},
   "outputs": [],
   "source": []
  }
 ],
 "metadata": {
  "kernelspec": {
   "display_name": "anaconda_projects",
   "language": "python",
   "name": "anaconda_projects_env"
  },
  "language_info": {
   "codemirror_mode": {
    "name": "ipython",
    "version": 3
   },
   "file_extension": ".py",
   "mimetype": "text/x-python",
   "name": "python",
   "nbconvert_exporter": "python",
   "pygments_lexer": "ipython3",
   "version": "3.8.5"
  }
 },
 "nbformat": 4,
 "nbformat_minor": 4
}
