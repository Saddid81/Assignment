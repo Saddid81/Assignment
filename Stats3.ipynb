{
 "cells": [
  {
   "cell_type": "code",
   "execution_count": 1,
   "id": "738af541",
   "metadata": {},
   "outputs": [],
   "source": [
    "import numpy as np\n",
    "from scipy import stats as st"
   ]
  },
  {
   "cell_type": "raw",
   "id": "b4c157ba",
   "metadata": {},
   "source": [
    "Problem Statement 1:\n",
    "Blood glucose levels for obese patients have a mean of 100 with a standard deviation of\n",
    "15. A researcher thinks that a diet high in raw cornstarch will have a positive effect on\n",
    "blood glucose levels. A sample of 36 patients who have tried the raw cornstarch diet\n",
    "have a mean glucose level of 108. Test the hypothesis that the raw cornstarch had an\n",
    "effect or not.\n",
    "\n",
    "Solution:\n",
    "H0: the raw cornstarch didn't have an effect on blood glucose levels (μ = 100)\n",
    "H1: the raw cornstarch had an effect on blood glucose levels (μ != 100)"
   ]
  },
  {
   "cell_type": "code",
   "execution_count": 8,
   "id": "fceac0e5",
   "metadata": {},
   "outputs": [
    {
     "data": {
      "text/plain": [
       "3.2"
      ]
     },
     "execution_count": 8,
     "metadata": {},
     "output_type": "execute_result"
    }
   ],
   "source": [
    "μ = 100\n",
    "σ = 15\n",
    "n = 36\n",
    "x = 108\n",
    "S_E = σ/np.sqrt(n)\n",
    "z_test = (x-μ)/S_E\n",
    "z_test"
   ]
  },
  {
   "cell_type": "code",
   "execution_count": 9,
   "id": "0bae33fc",
   "metadata": {},
   "outputs": [
    {
     "data": {
      "text/plain": [
       "-1.9599639845400545"
      ]
     },
     "execution_count": 9,
     "metadata": {},
     "output_type": "execute_result"
    }
   ],
   "source": [
    "z =st.norm.ppf(0.05/2)\n",
    "z"
   ]
  },
  {
   "cell_type": "raw",
   "id": "5978a29b",
   "metadata": {},
   "source": [
    "Assuming 5% of significance level in this two tailed test -> z < z_test -> 1.96 < 3.2\n",
    "There is enough evidence to reject H0. The raw cornstarch had an effect on blood glucose levels"
   ]
  },
  {
   "cell_type": "raw",
   "id": "c5f0c22a",
   "metadata": {},
   "source": [
    "Problem Statement 2:\n",
    "In one state, 52% of the voters are Republicans, and 48% are Democrats. In a second\n",
    "state, 47% of the voters are Republicans, and 53% are Democrats. Suppose a simple\n",
    "random sample of 100 voters are surveyed from each state.\n",
    "What is the probability that the survey will show a greater percentage of Republican\n",
    "voters in the second state than in the first state?\n",
    "\n",
    "state 1\n",
    "n1=100, P1=0.52, \n",
    "\n",
    "state 2\n",
    "n2=100, P2=0.47"
   ]
  },
  {
   "cell_type": "raw",
   "id": "2985e18b",
   "metadata": {},
   "source": [
    "Step 1\n",
    "Making sure that the sample of each population is big enough following this criterial\n",
    "n1P1 > 10, n1(1 -P1) > 10, n2P2 > 10, and n2(1 - P2) > 10\n",
    "n1P1 = 100 * 0.52 = 52, n1(1 - P1) = 100 * 0.48 = 48, n2P2 = 100 * 0.47 = 47, and n2(1 - P2) = 100 * 0.53 = 53\n",
    "Then, the sample size is large enough\n",
    "\n",
    "Step 2\n",
    "Find the expected value which is the mean of the difference in sample proportions.\n",
    "E(p1 - p2) = P1 - P2 = 0.52 - 0.47 = 0.05.\n",
    "\n",
    "Step 3\n",
    "\n",
    "Find the standard deviation of the difference between sample proportions (σd): \n",
    "σd = sqrt{ [P1(1 - P1) / n1] + [P2(1 - P2) / n2] }"
   ]
  },
  {
   "cell_type": "code",
   "execution_count": 13,
   "id": "1d4f25a0",
   "metadata": {},
   "outputs": [
    {
     "data": {
      "text/plain": [
       "0.07061869440877536"
      ]
     },
     "execution_count": 13,
     "metadata": {},
     "output_type": "execute_result"
    }
   ],
   "source": [
    "n1= 100.0\n",
    "P1= 0.52\n",
    "n2= 100.0\n",
    "P2= 0.47\n",
    "σd = np.sqrt((P1*(1 - P1) / n1) + (P2*(1 - P2) / n2))\n",
    "σd"
   ]
  },
  {
   "cell_type": "raw",
   "id": "4480bff8",
   "metadata": {},
   "source": [
    "Find the probability, which is equivalent to finding the probability that p1 - p2 is less than zero. "
   ]
  },
  {
   "cell_type": "code",
   "execution_count": 15,
   "id": "fb08e184",
   "metadata": {},
   "outputs": [
    {
     "data": {
      "text/plain": [
       "-0.7080278164104207"
      ]
     },
     "execution_count": 15,
     "metadata": {},
     "output_type": "execute_result"
    }
   ],
   "source": [
    "z = (0-0.05)/σd\n",
    "z"
   ]
  },
  {
   "cell_type": "raw",
   "id": "e5843f4f",
   "metadata": {},
   "source": [
    "In z table you can find -> P(z)=0.2420\n",
    "The probability that the survey will show a greater percentage of Republican voters in the second state than in the first state is 0.2420"
   ]
  },
  {
   "cell_type": "raw",
   "id": "5b696afc",
   "metadata": {},
   "source": [
    "Problem Statement 3:\n",
    "You take the SAT and score 1100. The mean score for the SAT is 1026 and the standard\n",
    "deviation is 209. How well did you score on the test compared to the average test taker?\n",
    "\n",
    "H0: μ = 1026\n",
    "H1: μ != 1026"
   ]
  },
  {
   "cell_type": "code",
   "execution_count": 16,
   "id": "64bf5b7f",
   "metadata": {},
   "outputs": [
    {
     "data": {
      "text/plain": [
       "0.35406698564593303"
      ]
     },
     "execution_count": 16,
     "metadata": {},
     "output_type": "execute_result"
    }
   ],
   "source": [
    "x = 1100\n",
    "μ = 1026\n",
    "σ = 209\n",
    "\n",
    "z = (x-μ)/σ\n",
    "z"
   ]
  },
  {
   "cell_type": "raw",
   "id": "79d33d72",
   "metadata": {},
   "source": [
    "My score was 0.354 standard deviations above the mean."
   ]
  }
 ],
 "metadata": {
  "kernelspec": {
   "display_name": "Python 3",
   "language": "python",
   "name": "python3"
  },
  "language_info": {
   "codemirror_mode": {
    "name": "ipython",
    "version": 3
   },
   "file_extension": ".py",
   "mimetype": "text/x-python",
   "name": "python",
   "nbconvert_exporter": "python",
   "pygments_lexer": "ipython3",
   "version": "3.8.5"
  }
 },
 "nbformat": 4,
 "nbformat_minor": 5
}
