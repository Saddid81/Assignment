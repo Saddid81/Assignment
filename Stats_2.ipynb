{
 "cells": [
  {
   "cell_type": "code",
   "execution_count": 101,
   "id": "a2678558",
   "metadata": {},
   "outputs": [],
   "source": [
    "import numpy as np\n",
    "from scipy import stats as st\n",
    "import pandas as pd"
   ]
  },
  {
   "cell_type": "raw",
   "id": "dbad5cc3",
   "metadata": {},
   "source": [
    "Problem Statement 1:\n",
    "\n",
    "In each of the following situations, state whether it is a correctly stated hypothesis\n",
    "testing problem and why?\n",
    "\n",
    "1. H0: μ = 25, H1: μ ≠ 25 \n",
    "It is correct, since the null hypothesis contents the equality and the alternative hypothesis is the opposite of the null. These hypothesis are for two-tailed test because H1 means that the mean could be less or greater than 25. \n",
    "\n",
    "2. H0: σ > 10, H1: σ = 10\n",
    "It is not correct, due to the hypothesis testing is not done with the standartd deviation (σ). Besides, the alternative hypothesis contents the equality instead of H0, and the rejection of H0 dosen't necessarily mean that the H1 can be accepted. \n",
    "\n",
    "3. H0: x = 50, H1: x ≠ 50\n",
    "It is not correct because the hypothesis testing is statements about the population under study, and not statements about the sample.\n",
    "\n",
    "4. H0: p = 0.1, H1: p = 0.5\n",
    "It is not correct because the rejection of H0 dosen't necessarily mean that the H1 can be accepted.\n",
    "\n",
    "5. H0: s = 30, H1: s > 30\n",
    "It is not correct because the hypothesis testing is statements about the population or distribution under study, and not statements about the sample. Besides, the rejection of H0 dosen't necessarily mean that the H1 can be accepted."
   ]
  },
  {
   "cell_type": "raw",
   "id": "f4c22610",
   "metadata": {},
   "source": [
    "Problem Statement 2:\n",
    "\n",
    "The college bookstore tells prospective students that the average cost of its\n",
    "textbooks is Rs. 52 with a standard deviation of Rs. 4.50. A group of smart statistics\n",
    "students thinks that the average cost is higher. To test the bookstore’s claim against\n",
    "their alternative, the students will select a random sample of size 100. Assume that\n",
    "the mean from their random sample is Rs. 52.80. Perform a hypothesis test at the\n",
    "5% level of significance and state your decision.\n",
    "\n",
    "Solution:\n",
    "\n",
    "Hypothesis statements\n",
    "H0: μ <= Rs.52, H1: μ > Rs. 52\n",
    "\n",
    "σ = Rs. 4.50\n",
    "n = 100\n",
    "x = Rs.52.80\n",
    "\n",
    "z = (x-μ)/(σ/sqrt(n))"
   ]
  },
  {
   "cell_type": "code",
   "execution_count": 13,
   "id": "58757e9c",
   "metadata": {},
   "outputs": [
    {
     "data": {
      "text/plain": [
       "1.7777777777777715"
      ]
     },
     "execution_count": 13,
     "metadata": {},
     "output_type": "execute_result"
    }
   ],
   "source": [
    "#Calculation of test statistic value:\n",
    "z = (52.8-52)*np.sqrt(100)/4.50\n",
    "z"
   ]
  },
  {
   "cell_type": "code",
   "execution_count": 17,
   "id": "cd2fdc2f",
   "metadata": {},
   "outputs": [
    {
     "data": {
      "text/plain": [
       "0.0377201798134007"
      ]
     },
     "execution_count": 17,
     "metadata": {},
     "output_type": "execute_result"
    }
   ],
   "source": [
    "# Determination of P-value. The test is an upper tailed test\n",
    "p = 1 - st.norm.cdf(z)\n",
    "p"
   ]
  },
  {
   "cell_type": "raw",
   "id": "21fe3b34",
   "metadata": {},
   "source": [
    "Conclusion:\n",
    "\n",
    "As 0.05 > 0.04 there is enough evidence to reject the H0 at the significance level of 5%. So, the group of smart statistics students is right in its claim about the average cost is higher."
   ]
  },
  {
   "cell_type": "raw",
   "id": "9c6464b0",
   "metadata": {},
   "source": [
    "Problem Statement 3:\n",
    "\n",
    "A certain chemical pollutant in the Genesee River has been constant for several\n",
    "years with mean μ = 34 ppm (parts per million) and standard deviation σ = 8 ppm. A\n",
    "group of factory representatives whose companies discharge liquids into the river is\n",
    "now claiming that they have lowered the average with improved filtration devices. A\n",
    "group of environmentalists will test to see if this is true at the 1% level of\n",
    "significance. Assume \\ that their sample of size 50 gives a mean of 32.5 ppm.\n",
    "Perform a hypothesis test at the 1% level of significance and state your decision.\n",
    "\n",
    "μ = 34 ppm\n",
    "σ = 8 ppm\n",
    "n = 50\n",
    "x =32.5\n",
    "\n",
    "\n",
    "Solution:\n",
    "H0: μ => 34, H1: μ < 34\n",
    "\n"
   ]
  },
  {
   "cell_type": "code",
   "execution_count": 19,
   "id": "aa3925e6",
   "metadata": {},
   "outputs": [
    {
     "data": {
      "text/plain": [
       "-1.3258252147247767"
      ]
     },
     "execution_count": 19,
     "metadata": {},
     "output_type": "execute_result"
    }
   ],
   "source": [
    "#Calculation of test statistic value:\n",
    "z = (32.5-34)*np.sqrt(50)/8\n",
    "z"
   ]
  },
  {
   "cell_type": "code",
   "execution_count": 20,
   "id": "7088c327",
   "metadata": {},
   "outputs": [
    {
     "data": {
      "text/plain": [
       "0.0924487994828001"
      ]
     },
     "execution_count": 20,
     "metadata": {},
     "output_type": "execute_result"
    }
   ],
   "source": [
    "# Determination of P-value. The test is a lower tailed test\n",
    "p = st.norm.cdf(z)\n",
    "p"
   ]
  },
  {
   "cell_type": "raw",
   "id": "c3464962",
   "metadata": {},
   "source": [
    "Conclusion:\n",
    "As 0.09 > 0.01, there is not enough evindence to reject H0 using a significance level of %1. So, those companies continue to discharge 34 ppm or more of chemical pollutants into the river."
   ]
  },
  {
   "cell_type": "raw",
   "id": "94733b4f",
   "metadata": {},
   "source": [
    "Problem Statement 4:\n",
    "Based on population figures and other general information on the U.S. population,\n",
    "suppose it has been estimated that, on average, a family of four in the U.S. spends\n",
    "about $1135 annually on dental expenditures. Suppose further that a regional dental\n",
    "association wants to test to determine if this figure is accurate for their area of\n",
    "country. To test this, 22 families of 4 are randomly selected from the population in\n",
    "that area of the country and a log is kept of the family’s dental expenditure for one\n",
    "year. The resulting data are given below. Assuming, that dental expenditure is\n",
    "normally distributed in the population, use the data and an alpha of 0.05 to test the\n",
    "dental association’s hypothesis.\n",
    "1008, 812, 1117, 1323, 1308, 1415, 831, 1021, 1287, 851, 930, 730, 699,\n",
    "872, 913, 944, 954, 987, 1695, 995, 1003, 994\n",
    "\n",
    "Solution:\n",
    "H0: μ = $1135, H1: μ != $1135\n",
    "μ = $1135 annually\n",
    "s = $240.37\n",
    "x = $1031.32\n",
    "n = 22\n",
    "\n"
   ]
  },
  {
   "attachments": {
    "image-2.png": {
     "image/png": "[encoded data removed]"
    }
   },
   "cell_type": "markdown",
   "id": "11263e3f",
   "metadata": {},
   "source": [
    "![image-2.png](attachment:image-2.png)"
   ]
  },
  {
   "cell_type": "code",
   "execution_count": 27,
   "id": "af93ab04",
   "metadata": {},
   "outputs": [
    {
     "data": {
      "text/plain": [
       "1031.32"
      ]
     },
     "execution_count": 27,
     "metadata": {},
     "output_type": "execute_result"
    }
   ],
   "source": [
    "sample=[1008, 812, 1117, 1323, 1308, 1415, 831, 1021, 1287, 851, 930, 730, 699, 872, 913, 944, 954, 987, 1695, 995, 1003, 994]\n",
    "x=np.mean(sample).round(2)\n",
    "x"
   ]
  },
  {
   "cell_type": "code",
   "execution_count": 41,
   "id": "886cb3f2",
   "metadata": {},
   "outputs": [
    {
     "data": {
      "text/plain": [
       "240.37"
      ]
     },
     "execution_count": 41,
     "metadata": {},
     "output_type": "execute_result"
    }
   ],
   "source": [
    "s=(np.sqrt(np.sum(np.square(sample-x))/21)).round(2)\n",
    "s"
   ]
  },
  {
   "cell_type": "code",
   "execution_count": 43,
   "id": "154b0c1a",
   "metadata": {},
   "outputs": [
    {
     "data": {
      "text/plain": [
       "-2.02"
      ]
     },
     "execution_count": 43,
     "metadata": {},
     "output_type": "execute_result"
    }
   ],
   "source": [
    "#Calculation of test statistic value:\n",
    "t = ((x-1135)*np.sqrt(22)/s).round(2)\n",
    "t"
   ]
  },
  {
   "cell_type": "code",
   "execution_count": 15,
   "id": "6b5d3c92",
   "metadata": {},
   "outputs": [
    {
     "data": {
      "text/plain": [
       "2.08"
      ]
     },
     "execution_count": 15,
     "metadata": {},
     "output_type": "execute_result"
    }
   ],
   "source": [
    "# Determination of P-value. We have to use T-table taking into account this is a two tailed test and df=n-1=21\n",
    "#t(0.05)=2.08\n",
    "st.t.ppf(1-(0.05/2), 21).round(2)"
   ]
  },
  {
   "cell_type": "raw",
   "id": "75ff3469",
   "metadata": {},
   "source": [
    "Conclusion:\n",
    "This is a two tailed hypothesis test with 5% level of significance. But, we have to use the T distribution due to n< 30. In this case there is not enough evidence to reject the H0 since -2.08 < -2.02. That means that the average of dental expenditures is accurate for this area. "
   ]
  },
  {
   "cell_type": "raw",
   "id": "9e5b492b",
   "metadata": {},
   "source": [
    "Problem Statement 5:\n",
    "In a report prepared by the Economic Research Department of a major bank the\n",
    "Department manager maintains that the average annual family income on Metropolis\n",
    "is $48,432. What do you conclude about the validity of the report if a random sample\n",
    "of 400 families shows and average income of $48,574 with a standard deviation of\n",
    "2000?\n",
    "\n",
    "Solution:\n",
    "H0: μ = $48,432 , H1: μ != $48,432\n",
    "μ = $48,432\n",
    "s = 2000  \n",
    "x = $48,574\n",
    "n = 400"
   ]
  },
  {
   "cell_type": "code",
   "execution_count": 52,
   "id": "ab49fdba",
   "metadata": {},
   "outputs": [
    {
     "data": {
      "text/plain": [
       "1.42"
      ]
     },
     "execution_count": 52,
     "metadata": {},
     "output_type": "execute_result"
    }
   ],
   "source": [
    "#Calculation of test statistic value:\n",
    "z = ((48574-48432)*np.sqrt(400)/2000).round(2)\n",
    "z"
   ]
  },
  {
   "cell_type": "code",
   "execution_count": 53,
   "id": "50c1254a",
   "metadata": {},
   "outputs": [
    {
     "data": {
      "text/plain": [
       "0.16"
      ]
     },
     "execution_count": 53,
     "metadata": {},
     "output_type": "execute_result"
    }
   ],
   "source": [
    "# Determination of P-value. The test is a two tailed test\n",
    "p = 2*(1 - st.norm.cdf(np.abs(z))).round(2)\n",
    "p"
   ]
  },
  {
   "cell_type": "raw",
   "id": "b3a22f93",
   "metadata": {},
   "source": [
    "Conclusion:\n",
    "If it is used a significance level equal or less than 10% there is not enough evidence to reject H0, since 0.16 > 0.10"
   ]
  },
  {
   "cell_type": "raw",
   "id": "f989b0a0",
   "metadata": {},
   "source": [
    "Problem Statement 6:\n",
    "Suppose that in past years the average price per square foot for warehouses in the\n",
    "United States has been $32.28. A national real estate investor wants to determine\n",
    "whether that figure has changed now. The investor hires a researcher who randomly\n",
    "samples 19 warehouses that are for sale across the United States and finds that the\n",
    "mean price per square foot is $31.67, with a standard deviation of $1.29. assume\n",
    "that the prices of warehouse footage are normally distributed in population. If the\n",
    "researcher uses a 5% level of significance, what statistical conclusion can be\n",
    "reached? What are the hypotheses?\n",
    "\n",
    "Solution:\n",
    "H0: μ = $32.28 , H1: μ != $32.28\n",
    "μ = $32.28\n",
    "s = $1.29  \n",
    "x = $31.67\n",
    "n = 19"
   ]
  },
  {
   "cell_type": "code",
   "execution_count": 7,
   "id": "fe5f3034",
   "metadata": {},
   "outputs": [
    {
     "data": {
      "text/plain": [
       "-2.06"
      ]
     },
     "execution_count": 7,
     "metadata": {},
     "output_type": "execute_result"
    }
   ],
   "source": [
    "#Calculation of test statistic value:\n",
    "t = ((31.67-32.28)*np.sqrt(19)/1.29).round(2)\n",
    "t"
   ]
  },
  {
   "cell_type": "code",
   "execution_count": 14,
   "id": "99e83560",
   "metadata": {},
   "outputs": [
    {
     "data": {
      "text/plain": [
       "2.1"
      ]
     },
     "execution_count": 14,
     "metadata": {},
     "output_type": "execute_result"
    }
   ],
   "source": [
    "# Determination of P-value. We have to use T-table taking into account this is a two tailed test and df=n-1=18\n",
    "#t(0.05)=2.101\n",
    "st.t.ppf(1-(0.05/2), 18).round(2)\n"
   ]
  },
  {
   "cell_type": "raw",
   "id": "38ab0627",
   "metadata": {},
   "source": [
    "Conclusion:\n",
    "This is a two tailed hypothesis test with 5% level of significance. But, we have to use the T distribution due to n< 30. In this case there is not enough evidence to reject the H0 since -2.10 < -2.06. That means that average price per square foot for warehouses in the United States doesn't change. "
   ]
  },
  {
   "cell_type": "raw",
   "id": "71bca692",
   "metadata": {},
   "source": [
    "Problem Statement 7:\n",
    "Fill in the blank spaces in the table and draw your conclusions from it.\n",
    "\n",
    "Solution:\n",
    "Assuming an standard deviation σ= 2.5\n",
    "\n",
    "The probability of commit type I error is:\n",
    "α = P(type I error) = P(reject H0 when H0 is true)\n",
    "\n"
   ]
  },
  {
   "attachments": {
    "image-2.png": {
     "image/png": "[encoded data removed]"
    }
   },
   "cell_type": "markdown",
   "id": "48b47ae9",
   "metadata": {},
   "source": [
    "![image-2.png](attachment:image-2.png)"
   ]
  },
  {
   "cell_type": "code",
   "execution_count": 26,
   "id": "fa06ce0f",
   "metadata": {},
   "outputs": [
    {
     "name": "stdout",
     "output_type": "stream",
     "text": [
      "a1= 0.0574 a2= 0.0114 a3= 0.0574 a4= 0.0114\n"
     ]
    }
   ],
   "source": [
    "def alpha(x1,x2,u,n):\n",
    "    z1 = ((x1-u)*np.sqrt(n)/2.5)\n",
    "    z2 = ((x2-u)*np.sqrt(n)/2.5)\n",
    "    a = (st.norm.cdf(z1)+(1 - st.norm.cdf(z2))).round(4)\n",
    "    return a\n",
    "# Case 1 α = P(x < 48.5; µ=50) + P(x > 51.5; µ=50) and n=10\n",
    "a1=alpha(48.5, 51.5, 50, 10)\n",
    "# Case 2 α = P(x < 48; µ=50) + P(x > 52; µ=50) and n=10\n",
    "a2=alpha(48, 52, 50, 10)\n",
    "# Case 3 α = P(x < 48,81; µ=50) + P(x > 51.19; µ=50) and n=16\n",
    "a3=alpha(48.81, 51.19, 50, 16)\n",
    "# Case 4 α = P(x < 48,42; µ=50) + P(x > 51.58; µ=50) and n=16\n",
    "a4=alpha(48.42, 51.58, 50, 16)\n",
    "\n",
    "print(\"a1=\", a1, \"a2=\", a2, \"a3=\", a3, \"a4=\", a4)"
   ]
  },
  {
   "cell_type": "raw",
   "id": "91c68f03",
   "metadata": {},
   "source": [
    "The probability of commit type II error \n",
    "β= P(type II error) = P(fail to reject H0 when H0 is false)"
   ]
  },
  {
   "attachments": {
    "image.png": {
     "image/png": "[encoded data removed]"
    }
   },
   "cell_type": "markdown",
   "id": "eee7bdce",
   "metadata": {},
   "source": [
    "![image.png](attachment:image.png)"
   ]
  },
  {
   "cell_type": "code",
   "execution_count": 29,
   "id": "3f32a226",
   "metadata": {},
   "outputs": [
    {
     "name": "stdout",
     "output_type": "stream",
     "text": [
      "b1= 0.2635 b2= 0.5 b3= 0.0975 b4= 0.2508\n"
     ]
    }
   ],
   "source": [
    "def beta(x1,x2,u,n):\n",
    "    z1 = ((x1-u)*np.sqrt(n)/2.5)\n",
    "    z2 = ((x2-u)*np.sqrt(n)/2.5)\n",
    "    b = (st.norm.cdf(z2)-st.norm.cdf(z1)).round(4)\n",
    "    return b\n",
    "# Case 1 β = P(48.5< x < 51.5; µ = 52) and n=10\n",
    "b1= beta(48.5,51.5,52,10)\n",
    "# Case 2 β = P(48< x < 52; µ = 52) and n=10\n",
    "b2= beta(48,52,52,10)\n",
    "# Case 3 β = P(48.81< x < 51.19; µ = 52) and n=16\n",
    "b3= beta(48.81,51.19,52,16)\n",
    "# Case 4 β = P(48.42< x < 51.58; µ = 52) and n=16\n",
    "b4= beta(48.42,51.58,52,16)\n",
    "print(\"b1=\", b1, \"b2=\", b2, \"b3=\", b3, \"b4=\", b4)"
   ]
  },
  {
   "cell_type": "code",
   "execution_count": 30,
   "id": "dcf7829a",
   "metadata": {},
   "outputs": [
    {
     "name": "stdout",
     "output_type": "stream",
     "text": [
      "b5= 0.8913 b6= 0.9703 b7= 0.8618 b8= 0.9576\n"
     ]
    }
   ],
   "source": [
    "# Case 1 β = P(48.5< x < 51.5; µ = 50.5) and n=10\n",
    "b5= beta(48.5,51.5,50.5,10)\n",
    "# Case 2 β = P(48< x < 52; µ = 50.5) and n=10\n",
    "b6= beta(48,52,50.5,10)\n",
    "# Case 3 β = P(48.81< x < 51.19; µ = 50.5) and n=16\n",
    "b7= beta(48.81,51.19,50.5,16)\n",
    "# Case 4 β = P(48.42< x < 51.58; µ = 50.5) and n=16\n",
    "b8= beta(48.42,51.58,50.5,16)\n",
    "print(\"b5=\", b5, \"b6=\", b6, \"b7=\", b7, \"b8=\", b8)"
   ]
  },
  {
   "attachments": {
    "image.png": {
     "image/png": "[encoded data removed]"
    }
   },
   "cell_type": "markdown",
   "id": "d92d5d62",
   "metadata": {},
   "source": [
    "![image.png](attachment:image.png)\n"
   ]
  },
  {
   "cell_type": "raw",
   "id": "cf142a27",
   "metadata": {},
   "source": [
    "Conclusions:\n",
    "• The probability of a type I error α, can always be reduced by appropriate selection of the critical\n",
    "values.\n",
    "• Type I and type II errors are related. When sample size n is fixed, a decrease in the probability of one type of error always results in an increase in the probability of the other.\n",
    "• An increase in sample size will generally reduce both α and β, provided that the critical values are held constant.\n",
    "• When the null hypothesis is false, β increases as the true value of the parameter approaches the value hypothesized in the null hypothesis.\n",
    "\n"
   ]
  },
  {
   "cell_type": "raw",
   "id": "adcd3f82",
   "metadata": {},
   "source": [
    "Problem Statement 8:\n",
    "Find the t-score for a sample size of 16 taken from a population with mean 10 when\n",
    "the sample mean is 12 and the sample standard deviation is 1.5.\n"
   ]
  },
  {
   "attachments": {
    "image.png": {
     "image/png": "[encoded data removed]"
    }
   },
   "cell_type": "markdown",
   "id": "7c43ef1e",
   "metadata": {},
   "source": [
    "![image.png](attachment:image.png)"
   ]
  },
  {
   "cell_type": "code",
   "execution_count": 35,
   "id": "cf2514a9",
   "metadata": {},
   "outputs": [
    {
     "data": {
      "text/plain": [
       "5.33"
      ]
     },
     "execution_count": 35,
     "metadata": {},
     "output_type": "execute_result"
    }
   ],
   "source": [
    "t = ((12-10)*np.sqrt(16)/1.5).round(2)\n",
    "t"
   ]
  },
  {
   "cell_type": "raw",
   "id": "648615dc",
   "metadata": {},
   "source": [
    "Problem Statement 9:\n",
    "Find the t-score below which we can expect 99% of sample means will fall if samples\n",
    "of size 16 are taken from a normally distributed population.\n",
    "Degree of freedom df=n-1=15\n",
    "t=2.602"
   ]
  },
  {
   "cell_type": "code",
   "execution_count": 37,
   "id": "3964a1b9",
   "metadata": {},
   "outputs": [
    {
     "data": {
      "text/plain": [
       "2.602480294995493"
      ]
     },
     "execution_count": 37,
     "metadata": {},
     "output_type": "execute_result"
    }
   ],
   "source": [
    "t=st.t.ppf(1-0.01, 15)\n",
    "t"
   ]
  },
  {
   "cell_type": "raw",
   "id": "fa0de2f6",
   "metadata": {},
   "source": [
    "Problem Statement 10:\n",
    "If a random sample of size 25 drawn from a normal population gives a mean of 60\n",
    "and a standard deviation of 4, find the range of t-scores where we can expect to find\n",
    "the middle 95% of all sample means. Compute the probability that (−t0.05 <t<t0.10).\n",
    "Solucition:"
   ]
  },
  {
   "cell_type": "code",
   "execution_count": 41,
   "id": "7138d06b",
   "metadata": {},
   "outputs": [
    {
     "data": {
      "text/plain": [
       "58.35"
      ]
     },
     "execution_count": 41,
     "metadata": {},
     "output_type": "execute_result"
    }
   ],
   "source": [
    "mean=(60-st.t.ppf(1-(0.05/2), 24)*4/np.sqrt(25)).round(2)\n",
    "mean"
   ]
  },
  {
   "cell_type": "code",
   "execution_count": 44,
   "id": "f3e8510a",
   "metadata": {},
   "outputs": [
    {
     "name": "stdout",
     "output_type": "stream",
     "text": [
      "-0.10319492808140103 < t < 0.20638985616280206\n"
     ]
    }
   ],
   "source": [
    "#Compute the probability that P(−t0.05 <t<t0.10)\n",
    "t1=-st.t.ppf(1-(0.05/2), 24)*0.05\n",
    "t2= st.t.ppf(1-(0.05/2), 24)*0.10\n",
    "print(t1,\"< t <\", t2)"
   ]
  },
  {
   "cell_type": "code",
   "execution_count": 52,
   "id": "dcc5a9fb",
   "metadata": {},
   "outputs": [
    {
     "data": {
      "text/plain": [
       "0.04014520413606415"
      ]
     },
     "execution_count": 52,
     "metadata": {},
     "output_type": "execute_result"
    }
   ],
   "source": [
    "#P=P(0.206>t)-P(0.103>t)\n",
    "P=st.t.cdf(0.206, 24)-st.t.cdf(0.103, 24)\n",
    "P"
   ]
  },
  {
   "cell_type": "raw",
   "id": "6baa2d7f",
   "metadata": {},
   "source": [
    "Problem Statement 11:\n",
    "Two-tailed test for difference between two population means\n",
    "Is there evidence to conclude that the number of people travelling from Bangalore to\n",
    "Chennai is different from the number of people travelling from Bangalore to Hosur in\n",
    "a week, given the following:\n",
    "Population 1: Bangalore to Chennai n1 = 1200\n",
    "x1 = 452\n",
    "s1 = 212\n",
    "Population 2: Bangalore to Hosur n2 = 800\n",
    "x2 = 523\n",
    "s2 = 185\n",
    "\n",
    "Solution:\n",
    "H0: μ1 = μ2  , H1: μ1 != μ2\n"
   ]
  },
  {
   "cell_type": "code",
   "execution_count": 59,
   "id": "4305065a",
   "metadata": {},
   "outputs": [
    {
     "data": {
      "text/plain": [
       "8.957375917830698"
      ]
     },
     "execution_count": 59,
     "metadata": {},
     "output_type": "execute_result"
    }
   ],
   "source": [
    "# Standard error\n",
    "S_E = np.sqrt((np.square(212)/1200)+(np.square(185)/800))\n",
    "S_E"
   ]
  },
  {
   "cell_type": "code",
   "execution_count": 55,
   "id": "38f0f087",
   "metadata": {},
   "outputs": [
    {
     "data": {
      "text/plain": [
       "-7.924107142857142"
      ]
     },
     "execution_count": 55,
     "metadata": {},
     "output_type": "execute_result"
    }
   ],
   "source": [
    "z= (452-523)/S_E\n",
    "z"
   ]
  },
  {
   "cell_type": "raw",
   "id": "c65b1014",
   "metadata": {},
   "source": [
    "Conclusion: \n",
    "Although any significance level is not given, there is enough evidence to accept H1 because z=-7.92 which is quite small value with P(z)=0. This means that the number of people travelling from Bangalore to Chennai is different from the number of people travelling from Bangalore to Hosur in a week."
   ]
  },
  {
   "cell_type": "raw",
   "id": "bb917596",
   "metadata": {},
   "source": [
    "Problem Statement 12:\n",
    "Is there evidence to conclude that the number of people preferring Duracell battery is\n",
    "different from the number of people preferring Energizer battery, given the following:\n",
    "Population 1: Duracell\n",
    "n1 = 100\n",
    "x1 = 308\n",
    "s1 = 84\n",
    "Population 2: Energizer\n",
    "n2 = 100\n",
    "x2 = 254\n",
    "s2 = 67\n",
    "\n",
    "Solution:\n",
    "H0: μ1 = μ2  , H1: μ1 != μ2"
   ]
  },
  {
   "cell_type": "code",
   "execution_count": 62,
   "id": "82374241",
   "metadata": {},
   "outputs": [
    {
     "data": {
      "text/plain": [
       "5.025702668336442"
      ]
     },
     "execution_count": 62,
     "metadata": {},
     "output_type": "execute_result"
    }
   ],
   "source": [
    "n1 = 100\n",
    "x1 = 308\n",
    "s1 = 84\n",
    "n2 = 100\n",
    "x2 = 254\n",
    "s2 = 67\n",
    "S_E = np.sqrt((np.square(s1)/n1)+(np.square(s2)/n2))\n",
    "z= (x1-x2)/S_E\n",
    "z"
   ]
  },
  {
   "cell_type": "raw",
   "id": "eda7e953",
   "metadata": {},
   "source": [
    "Conclusion: \n",
    "Although any significance level is not given, there is enough evidence to reject H0 because z=5.0.25 and z> Z(alpha/2) for any alpha. This means that the number of people preferring Duracell battery is different from the number of people preferring Energizer battery."
   ]
  },
  {
   "cell_type": "raw",
   "id": "1542872e",
   "metadata": {},
   "source": [
    "Problem Statement 13:\n",
    "Pooled estimate of the population variance\n",
    "Does the data provide sufficient evidence to conclude that average percentage\n",
    "increase in the price of sugar differs when it is sold at two different prices?\n",
    "Population 1: Price of sugar = Rs. 27.50 n1 = 14\n",
    "x1 = 0.317%\n",
    "s1 = 0.12%\n",
    "μ1 = average percentage increase in the price of sugar\n",
    "Population 2: Price of sugar = Rs. 20.00 n2 = 9\n",
    "x2 = 0.21%\n",
    "s2 = 0.11%\n",
    "μ2 = average percentage increase in the price of sugar\n",
    "Solution:\n",
    "H0: μ1 = μ2  , H1: μ1 != μ2\n",
    "\n"
   ]
  },
  {
   "attachments": {
    "image-3.png": {
     "image/png": "[encoded data removed]"
    }
   },
   "cell_type": "markdown",
   "id": "9e98c8dc",
   "metadata": {},
   "source": [
    "![image-3.png](attachment:image-3.png)\n"
   ]
  },
  {
   "cell_type": "code",
   "execution_count": 63,
   "id": "28d7b10e",
   "metadata": {},
   "outputs": [
    {
     "data": {
      "text/plain": [
       "0.1162919151265879"
      ]
     },
     "execution_count": 63,
     "metadata": {},
     "output_type": "execute_result"
    }
   ],
   "source": [
    "n1 = 14\n",
    "x1 = 0.317\n",
    "s1 = 0.12\n",
    "n2 = 9\n",
    "x2 = 0.21\n",
    "s2 = 0.11\n",
    "\n",
    "s12=np.sqrt(((n1-1)*np.square(s1)+(n2-1)*np.square(s2))/(n1+n2-2))\n",
    "s12"
   ]
  },
  {
   "cell_type": "code",
   "execution_count": 66,
   "id": "36fea5d0",
   "metadata": {},
   "outputs": [
    {
     "data": {
      "text/plain": [
       "0.04968532879234398"
      ]
     },
     "execution_count": 66,
     "metadata": {},
     "output_type": "execute_result"
    }
   ],
   "source": [
    "S_E=s12*np.sqrt((1/n1)+(1/n2))\n",
    "S_E"
   ]
  },
  {
   "cell_type": "code",
   "execution_count": 67,
   "id": "c0c66f0f",
   "metadata": {},
   "outputs": [
    {
     "data": {
      "text/plain": [
       "2.15355322387416"
      ]
     },
     "execution_count": 67,
     "metadata": {},
     "output_type": "execute_result"
    }
   ],
   "source": [
    "t=(x1-x2)/S_E\n",
    "t"
   ]
  },
  {
   "cell_type": "code",
   "execution_count": 68,
   "id": "e7a3edfa",
   "metadata": {},
   "outputs": [
    {
     "data": {
      "text/plain": [
       "2.079613844727662"
      ]
     },
     "execution_count": 68,
     "metadata": {},
     "output_type": "execute_result"
    }
   ],
   "source": [
    "t_table=st.t.ppf(1-(0.05/2), 21)\n",
    "t_table"
   ]
  },
  {
   "cell_type": "raw",
   "id": "5bb7350b",
   "metadata": {},
   "source": [
    "Assuming 5% of significance level in this two tail test where the degree of freedom is df= 9+14-2= 21 -> t(0.05)=2.08. So, as 2.15 > 2.08 there is not enough evidence to accept H0, this means that average percentage\n",
    "increase in the price of sugar differs when it is sold at two different prices."
   ]
  },
  {
   "cell_type": "raw",
   "id": "ff10c70b",
   "metadata": {},
   "source": [
    "Problem Statement 14:\n",
    "The manufacturers of compact disk players want to test whether a small price\n",
    "reduction is enough to increase sales of their product. Is there evidence that the\n",
    "small price reduction is enough to increase sales of compact disk players?\n",
    "Population 1: Before reduction\n",
    "n1 = 15\n",
    "x1 = Rs. 6598 s1 = Rs. 844\n",
    "Population 2: After reduction n2 = 12\n",
    "x2 = RS. 6870\n",
    "s2 = Rs. 669\n",
    "\n",
    "Solution:\n",
    "H0: no price reduction\n",
    "μ1 = μ2  \n",
    "H1: small price reduction\n",
    "μ1 != μ2"
   ]
  },
  {
   "cell_type": "code",
   "execution_count": 69,
   "id": "c7ffdf4b",
   "metadata": {},
   "outputs": [
    {
     "data": {
      "text/plain": [
       "771.9034913769985"
      ]
     },
     "execution_count": 69,
     "metadata": {},
     "output_type": "execute_result"
    }
   ],
   "source": [
    "n1 = 15\n",
    "x1 = 6598 \n",
    "s1 = 844\n",
    "n2 = 12\n",
    "x2 = 6870\n",
    "s2 = 669\n",
    "\n",
    "s12=np.sqrt(((n1-1)*np.square(s1)+(n2-1)*np.square(s2))/(n1+n2-2))\n",
    "s12"
   ]
  },
  {
   "cell_type": "code",
   "execution_count": 70,
   "id": "a751cad7",
   "metadata": {},
   "outputs": [
    {
     "data": {
      "text/plain": [
       "298.9569366982476"
      ]
     },
     "execution_count": 70,
     "metadata": {},
     "output_type": "execute_result"
    }
   ],
   "source": [
    "S_E=s12*np.sqrt((1/n1)+(1/n2))\n",
    "S_E"
   ]
  },
  {
   "cell_type": "code",
   "execution_count": 71,
   "id": "5f696ff6",
   "metadata": {},
   "outputs": [
    {
     "data": {
      "text/plain": [
       "-0.9098300343990459"
      ]
     },
     "execution_count": 71,
     "metadata": {},
     "output_type": "execute_result"
    }
   ],
   "source": [
    "t=(x1-x2)/S_E\n",
    "t"
   ]
  },
  {
   "cell_type": "code",
   "execution_count": 72,
   "id": "887cf9ce",
   "metadata": {},
   "outputs": [
    {
     "data": {
      "text/plain": [
       "2.059538552753294"
      ]
     },
     "execution_count": 72,
     "metadata": {},
     "output_type": "execute_result"
    }
   ],
   "source": [
    "t_table=st.t.ppf(1-(0.05/2), 25)\n",
    "t_table"
   ]
  },
  {
   "cell_type": "raw",
   "id": "3bc1b227",
   "metadata": {},
   "source": [
    "Assuming 5% of significance level in this two tail test where the degree of freedom is df= 15+12-2= 25 -> t(0.05)=2.06. So, as -2.05 < -0.91 there is enough evidence to accept H0, this means that the\n",
    "small price reduction is not enough to increase sales of compact disk players"
   ]
  },
  {
   "cell_type": "raw",
   "id": "20c60513",
   "metadata": {},
   "source": [
    "Problem Statement 15:\n",
    "Comparisons of two population proportions when the hypothesized difference is zero\n",
    "Carry out a two-tailed test of the equality of banks’ share of the car loan market in 1980 and 1995.\n",
    "Population 1: 1980\n",
    "n1 = 1000\n",
    "x1 = 53\n",
    "p1 = 0.53\n",
    "Population 2: 1985\n",
    "n2 = 100\n",
    "x2 = 43\n",
    "p2= 0.53\n",
    "\n",
    "Solution:\n",
    "H0: p1-p2 = D0 = 0 -> banks’ share of the car loan market was the same in 1980 and 1995\n",
    "H1: p1-p2 != 0 -> banks’ share of the car loan market was different in 1980 and 1995\n",
    "\n",
    "where p is population proportion\n"
   ]
  },
  {
   "attachments": {
    "image.png": {
     "image/png": "[encoded data removed]"
    }
   },
   "cell_type": "markdown",
   "id": "2c43c6d5",
   "metadata": {},
   "source": [
    "![image.png](attachment:image.png)"
   ]
  },
  {
   "cell_type": "code",
   "execution_count": 73,
   "id": "487cd7c7",
   "metadata": {},
   "outputs": [
    {
     "data": {
      "text/plain": [
       "0.0"
      ]
     },
     "execution_count": 73,
     "metadata": {},
     "output_type": "execute_result"
    }
   ],
   "source": [
    "n1 = 1000\n",
    "x1 = 53\n",
    "p1 = 0.53\n",
    "n2 = 100\n",
    "x2 = 43\n",
    "p2 = 0.53\n",
    "D0 = 0\n",
    "\n",
    "Z=((p1-p2)-D0)/np.sqrt((p1*(1-p1)/n1)+(p2*(1-p2)/n2))\n",
    "Z"
   ]
  },
  {
   "cell_type": "raw",
   "id": "dcb5ead2",
   "metadata": {},
   "source": [
    "Conclusion:\n",
    "Z=0, that means we have to accept the H0. So, the banks’ share of the car loan market was the same in 1980 and 1995"
   ]
  },
  {
   "cell_type": "raw",
   "id": "2a97e676",
   "metadata": {},
   "source": [
    "Problem Statement 16:\n",
    "Carry out a one-tailed test to determine whether the population proportion of traveler’s check buyers who buy at least $2500 in checks when sweepstakes prizes are offered as at least 10% higher than the proportion of such buyers when no sweepstakes are on.\n",
    "Population 1: With sweepstakes\n",
    "n1 = 300\n",
    "x1 = 120\n",
    "p1 = 0.40\n",
    "Population 2: No sweepstakes \n",
    "n2 = 700\n",
    "x2 = 140\n",
    "p2= 0.20\n",
    "\n",
    "Solution:\n",
    "H0: p1-p2 >= D0 = 0.10 \n",
    "H1: p1-p2 < 0.10 \n",
    "\n",
    "where p is population proportion\n",
    "\n"
   ]
  },
  {
   "cell_type": "code",
   "execution_count": 74,
   "id": "64dae724",
   "metadata": {},
   "outputs": [
    {
     "data": {
      "text/plain": [
       "3.1180478223116177"
      ]
     },
     "execution_count": 74,
     "metadata": {},
     "output_type": "execute_result"
    }
   ],
   "source": [
    "n1 = 300\n",
    "x1 = 120\n",
    "p1 = 0.40\n",
    "n2 = 700\n",
    "x2 = 140\n",
    "p2 = 0.20\n",
    "D0 = 0.10\n",
    "\n",
    "Z=((p1-p2)-D0)/np.sqrt((p1*(1-p1)/n1)+(p2*(1-p2)/n2))\n",
    "Z"
   ]
  },
  {
   "cell_type": "code",
   "execution_count": 76,
   "id": "2dcac11d",
   "metadata": {},
   "outputs": [
    {
     "data": {
      "text/plain": [
       "-1.6448536269514729"
      ]
     },
     "execution_count": 76,
     "metadata": {},
     "output_type": "execute_result"
    }
   ],
   "source": [
    "z_table = st.norm.ppf(0.05)\n",
    "z_table"
   ]
  },
  {
   "cell_type": "raw",
   "id": "5db99902",
   "metadata": {},
   "source": [
    "Conclusion:\n",
    "Assuming 5% of significance level in this lower tail test-> Z(0.05)= -1.64\n",
    "Then Z(0.05)<Z. We have to accept H0, this means the population proportion of traveler’s check buyers who buy at least $2500 in checks increace at least 10% when sweepstakes prizes are offered"
   ]
  },
  {
   "cell_type": "raw",
   "id": "8f10d444",
   "metadata": {},
   "source": [
    "Problem Statement 17:\n",
    "A die is thrown 132 times with the following results: Number turned up: 1, 2, 3, 4, 5, 6\n",
    "Frequency: 16, 20, 25, 14, 29, 28\n",
    "Is the die unbiased? Consider the degrees of freedom as p − 1.\n",
    "\n",
    "Solution:\n",
    "H0: the die is unbiased\n",
    "H1: the die is not unbiased\n",
    "\n",
    "The frequency expected (E) of each number is 132/6 =22\n",
    "Th observed frequency (O): 16, 20, 25, 14, 29, 28"
   ]
  },
  {
   "attachments": {
    "image.png": {
     "image/png": "[encoded data removed]"
    }
   },
   "cell_type": "markdown",
   "id": "37de9b60",
   "metadata": {},
   "source": [
    "![image.png](attachment:image.png)"
   ]
  },
  {
   "cell_type": "code",
   "execution_count": 87,
   "id": "c94f9850",
   "metadata": {},
   "outputs": [],
   "source": [
    "E=132/6\n",
    "O= np.array([16,20,25,14,29,28])\n"
   ]
  },
  {
   "cell_type": "code",
   "execution_count": 90,
   "id": "bec33c4c",
   "metadata": {},
   "outputs": [
    {
     "data": {
      "text/plain": [
       "9.0"
      ]
     },
     "execution_count": 90,
     "metadata": {},
     "output_type": "execute_result"
    }
   ],
   "source": [
    "X2_test= np.sum(np.square(O-E)/E)\n",
    "X2_test"
   ]
  },
  {
   "cell_type": "code",
   "execution_count": 93,
   "id": "cb476ae0",
   "metadata": {},
   "outputs": [
    {
     "data": {
      "text/plain": [
       "9.0"
      ]
     },
     "execution_count": 93,
     "metadata": {},
     "output_type": "execute_result"
    }
   ],
   "source": [
    "X2_test=st.chisquare(O,E, 5)\n",
    "X2_test[0]"
   ]
  },
  {
   "cell_type": "raw",
   "id": "8a4c84dc",
   "metadata": {},
   "source": [
    "With df=(6-1)=5 and assuming a level of significance of 0.05\n",
    "In the Chi_table we found X2(0.05)=11.07. Then X2_test < X2(0.05), this means that we have to accept the Ho (the die is unbiased)."
   ]
  },
  {
   "cell_type": "raw",
   "id": "4037b703",
   "metadata": {},
   "source": [
    "Problem Statement 18:\n",
    "In a certain town, there are about one million eligible voters. A simple random\n",
    "sample of 10,000 eligible voters was chosen to study the relationship between\n",
    "gender and participation in the last election. The results are summarized in the\n",
    "following 2X2 (read two by two) contingency table:"
   ]
  },
  {
   "attachments": {
    "image.png": {
     "image/png": "[encoded data removed]"
    }
   },
   "cell_type": "markdown",
   "id": "e0b5334d",
   "metadata": {},
   "source": [
    "![image.png](attachment:image.png)"
   ]
  },
  {
   "cell_type": "raw",
   "id": "fc6020a4",
   "metadata": {},
   "source": [
    "We would want to check whether being a man or a woman (columns) is independent of\n",
    "having voted in the last election (rows). In other words, is “gender and voting independent”?\n",
    "\n",
    "Solution:\n",
    "H0: gender and voting are independent\n",
    "H1: gender and voting are dependent"
   ]
  },
  {
   "cell_type": "code",
   "execution_count": 193,
   "id": "45022f1b",
   "metadata": {},
   "outputs": [
    {
     "data": {
      "text/plain": [
       "{'Men': [2792, 1486], 'Women': [3591, 2131]}"
      ]
     },
     "execution_count": 193,
     "metadata": {},
     "output_type": "execute_result"
    }
   ],
   "source": [
    "dic = {'Men':[2792,1486],\n",
    "      'Women':[3591,2131]}\n",
    "dic"
   ]
  },
  {
   "cell_type": "code",
   "execution_count": 194,
   "id": "c4355952",
   "metadata": {},
   "outputs": [
    {
     "data": {
      "text/html": [
       "<div>\n",
       "<style scoped>\n",
       "    .dataframe tbody tr th:only-of-type {\n",
       "        vertical-align: middle;\n",
       "    }\n",
       "\n",
       "    .dataframe tbody tr th {\n",
       "        vertical-align: top;\n",
       "    }\n",
       "\n",
       "    .dataframe thead th {\n",
       "        text-align: right;\n",
       "    }\n",
       "</style>\n",
       "<table border=\"1\" class=\"dataframe\">\n",
       "  <thead>\n",
       "    <tr style=\"text-align: right;\">\n",
       "      <th></th>\n",
       "      <th>Men</th>\n",
       "      <th>Women</th>\n",
       "    </tr>\n",
       "  </thead>\n",
       "  <tbody>\n",
       "    <tr>\n",
       "      <th>voted</th>\n",
       "      <td>2792</td>\n",
       "      <td>3591</td>\n",
       "    </tr>\n",
       "    <tr>\n",
       "      <th>not_voted</th>\n",
       "      <td>1486</td>\n",
       "      <td>2131</td>\n",
       "    </tr>\n",
       "  </tbody>\n",
       "</table>\n",
       "</div>"
      ],
      "text/plain": [
       "            Men  Women\n",
       "voted      2792   3591\n",
       "not_voted  1486   2131"
      ]
     },
     "execution_count": 194,
     "metadata": {},
     "output_type": "execute_result"
    }
   ],
   "source": [
    "table_O = pd.DataFrame(dic, index=['voted', 'not_voted'])\n",
    "table_O"
   ]
  },
  {
   "cell_type": "code",
   "execution_count": 195,
   "id": "f04d54dd",
   "metadata": {},
   "outputs": [
    {
     "data": {
      "text/html": [
       "<div>\n",
       "<style scoped>\n",
       "    .dataframe tbody tr th:only-of-type {\n",
       "        vertical-align: middle;\n",
       "    }\n",
       "\n",
       "    .dataframe tbody tr th {\n",
       "        vertical-align: top;\n",
       "    }\n",
       "\n",
       "    .dataframe thead th {\n",
       "        text-align: right;\n",
       "    }\n",
       "</style>\n",
       "<table border=\"1\" class=\"dataframe\">\n",
       "  <thead>\n",
       "    <tr style=\"text-align: right;\">\n",
       "      <th></th>\n",
       "      <th>Men</th>\n",
       "      <th>Women</th>\n",
       "    </tr>\n",
       "  </thead>\n",
       "  <tbody>\n",
       "    <tr>\n",
       "      <th>voted</th>\n",
       "      <td>2730</td>\n",
       "      <td>3652</td>\n",
       "    </tr>\n",
       "    <tr>\n",
       "      <th>not_voted</th>\n",
       "      <td>1547</td>\n",
       "      <td>2069</td>\n",
       "    </tr>\n",
       "  </tbody>\n",
       "</table>\n",
       "</div>"
      ],
      "text/plain": [
       "            Men  Women\n",
       "voted      2730   3652\n",
       "not_voted  1547   2069"
      ]
     },
     "execution_count": 195,
     "metadata": {},
     "output_type": "execute_result"
    }
   ],
   "source": [
    "total = table_O['Men'].sum()+table_O['Women'].sum()\n",
    "table_E = table_O.copy()\n",
    "row = ('voted','not_voted')\n",
    "colum = ('Men','Women')\n",
    "for i in colum:\n",
    "    for j in row:\n",
    "        table_E[i][j]=(table_O[i].sum()*table_O.loc[j].sum())/total\n",
    "table_E\n"
   ]
  },
  {
   "cell_type": "code",
   "execution_count": 197,
   "id": "2bd3ddb8",
   "metadata": {},
   "outputs": [
    {
     "data": {
      "text/plain": [
       "6.6901553149692035"
      ]
     },
     "execution_count": 197,
     "metadata": {},
     "output_type": "execute_result"
    }
   ],
   "source": [
    "x_f=[]\n",
    "for i in colum:\n",
    "    for j in row:\n",
    "        x=(np.square(table_O[i][j]-table_E[i][j])/table_E[i][j])\n",
    "        x_f.append(x)\n",
    "x_2_test=np.array(x_f).sum()\n",
    "x_2_test "
   ]
  },
  {
   "cell_type": "raw",
   "id": "be589537",
   "metadata": {},
   "source": [
    "Degree of freedom is: for gender (P-1)=1 and for voting (P-1)=1 -> df=1*1=1\n",
    "Assuming 5% of significance level we can find in the Chi table X_2 = 3.841. Then in this case X_2 < X_2_test, this means that there is enough evidence to reject H0. We can conclude that gende and voting are dependent in this twon."
   ]
  },
  {
   "cell_type": "raw",
   "id": "905ae856",
   "metadata": {},
   "source": [
    "Problem Statement 19:\n",
    "A sample of 100 voters are asked which of four candidates they would vote for in an\n",
    "election. The number supporting each candidate is given below:"
   ]
  },
  {
   "attachments": {
    "image.png": {
     "image/png": "[encoded data removed]"
    }
   },
   "cell_type": "markdown",
   "id": "dfe0a13c",
   "metadata": {},
   "source": [
    "![image.png](attachment:image.png)"
   ]
  },
  {
   "cell_type": "raw",
   "id": "5c62573a",
   "metadata": {},
   "source": [
    "Do the data suggest that all candidates are equally popular? [Chi-Square = 14.96, with 3 df, p 0.05 .\n",
    "H0:Voters vote for the four candidates equal\n",
    "H1:Voters don't vote for the four candidates equal\n"
   ]
  },
  {
   "cell_type": "code",
   "execution_count": 186,
   "id": "b706c18d",
   "metadata": {},
   "outputs": [
    {
     "data": {
      "text/html": [
       "<div>\n",
       "<style scoped>\n",
       "    .dataframe tbody tr th:only-of-type {\n",
       "        vertical-align: middle;\n",
       "    }\n",
       "\n",
       "    .dataframe tbody tr th {\n",
       "        vertical-align: top;\n",
       "    }\n",
       "\n",
       "    .dataframe thead th {\n",
       "        text-align: right;\n",
       "    }\n",
       "</style>\n",
       "<table border=\"1\" class=\"dataframe\">\n",
       "  <thead>\n",
       "    <tr style=\"text-align: right;\">\n",
       "      <th></th>\n",
       "      <th>Higgins</th>\n",
       "      <th>Reardon</th>\n",
       "      <th>White</th>\n",
       "      <th>Charlton</th>\n",
       "    </tr>\n",
       "  </thead>\n",
       "  <tbody>\n",
       "    <tr>\n",
       "      <th>Observation</th>\n",
       "      <td>41</td>\n",
       "      <td>19</td>\n",
       "      <td>24</td>\n",
       "      <td>16</td>\n",
       "    </tr>\n",
       "    <tr>\n",
       "      <th>Estimation</th>\n",
       "      <td>25</td>\n",
       "      <td>25</td>\n",
       "      <td>25</td>\n",
       "      <td>25</td>\n",
       "    </tr>\n",
       "  </tbody>\n",
       "</table>\n",
       "</div>"
      ],
      "text/plain": [
       "             Higgins  Reardon  White  Charlton\n",
       "Observation       41       19     24        16\n",
       "Estimation        25       25     25        25"
      ]
     },
     "execution_count": 186,
     "metadata": {},
     "output_type": "execute_result"
    }
   ],
   "source": [
    "dic={'Higgins': 41, 'Reardon': 19, 'White': 24, 'Charlton': 16}\n",
    "table = pd.DataFrame(dic, index=['Observation', 'Estimation'])\n",
    "table.loc['Estimation']=100/4\n",
    "table"
   ]
  },
  {
   "cell_type": "code",
   "execution_count": 188,
   "id": "26595bd9",
   "metadata": {},
   "outputs": [
    {
     "data": {
      "text/plain": [
       "14.959999999999999"
      ]
     },
     "execution_count": 188,
     "metadata": {},
     "output_type": "execute_result"
    }
   ],
   "source": [
    "X_2_test=(np.square(table.iloc[0]-table.iloc[1])/table.iloc[1]).sum()\n",
    "X_2_test"
   ]
  },
  {
   "cell_type": "raw",
   "id": "f69015a6",
   "metadata": {},
   "source": [
    "Degrees of freedom df=4-1=3 -> X_2(0.05)=7.815\n",
    "Then X_2(0.05) < X_2_test . There is enough evidence to reject the H0, so voters don't prefer the four candidates equal."
   ]
  },
  {
   "cell_type": "markdown",
   "id": "e6956b26",
   "metadata": {},
   "source": [
    "Problem Statement 20:\n",
    "Children of three ages are asked to indicate their preference for three photographs of\n",
    "adults. Do the data suggest that there is a significant relationship between age and\n",
    "photograph preference? What is wrong with this study? [Chi-Square = 29.6, with 4 df: p < 0.05].\n",
    "\n",
    "Solution:\n",
    "H0: there is not a significant relationship between age and photograph preference\n",
    "H1: there is a significant relationship between age and photograph preference"
   ]
  },
  {
   "attachments": {
    "image.png": {
     "image/png": "[encoded data removed]"
    }
   },
   "cell_type": "markdown",
   "id": "7f54a483",
   "metadata": {},
   "source": [
    "![image.png](attachment:image.png)"
   ]
  },
  {
   "cell_type": "code",
   "execution_count": 198,
   "id": "52e90179",
   "metadata": {},
   "outputs": [
    {
     "data": {
      "text/html": [
       "<div>\n",
       "<style scoped>\n",
       "    .dataframe tbody tr th:only-of-type {\n",
       "        vertical-align: middle;\n",
       "    }\n",
       "\n",
       "    .dataframe tbody tr th {\n",
       "        vertical-align: top;\n",
       "    }\n",
       "\n",
       "    .dataframe thead th {\n",
       "        text-align: right;\n",
       "    }\n",
       "</style>\n",
       "<table border=\"1\" class=\"dataframe\">\n",
       "  <thead>\n",
       "    <tr style=\"text-align: right;\">\n",
       "      <th></th>\n",
       "      <th>A</th>\n",
       "      <th>B</th>\n",
       "      <th>C</th>\n",
       "    </tr>\n",
       "  </thead>\n",
       "  <tbody>\n",
       "    <tr>\n",
       "      <th>5-6 years</th>\n",
       "      <td>18</td>\n",
       "      <td>22</td>\n",
       "      <td>20</td>\n",
       "    </tr>\n",
       "    <tr>\n",
       "      <th>7-8 years</th>\n",
       "      <td>2</td>\n",
       "      <td>28</td>\n",
       "      <td>40</td>\n",
       "    </tr>\n",
       "    <tr>\n",
       "      <th>9-10 years</th>\n",
       "      <td>20</td>\n",
       "      <td>10</td>\n",
       "      <td>40</td>\n",
       "    </tr>\n",
       "  </tbody>\n",
       "</table>\n",
       "</div>"
      ],
      "text/plain": [
       "             A   B   C\n",
       "5-6 years   18  22  20\n",
       "7-8 years    2  28  40\n",
       "9-10 years  20  10  40"
      ]
     },
     "execution_count": 198,
     "metadata": {},
     "output_type": "execute_result"
    }
   ],
   "source": [
    "dic={'A':[18,2,20], 'B':[22,28,10], 'C':[20,40,40]}\n",
    "index=['5-6 years', '7-8 years', '9-10 years']\n",
    "table_O = pd.DataFrame(dic, index=index)\n",
    "table_O"
   ]
  },
  {
   "cell_type": "code",
   "execution_count": 211,
   "id": "7a55c70f",
   "metadata": {},
   "outputs": [
    {
     "data": {
      "text/html": [
       "<div>\n",
       "<style scoped>\n",
       "    .dataframe tbody tr th:only-of-type {\n",
       "        vertical-align: middle;\n",
       "    }\n",
       "\n",
       "    .dataframe tbody tr th {\n",
       "        vertical-align: top;\n",
       "    }\n",
       "\n",
       "    .dataframe thead th {\n",
       "        text-align: right;\n",
       "    }\n",
       "</style>\n",
       "<table border=\"1\" class=\"dataframe\">\n",
       "  <thead>\n",
       "    <tr style=\"text-align: right;\">\n",
       "      <th></th>\n",
       "      <th>A</th>\n",
       "      <th>B</th>\n",
       "      <th>C</th>\n",
       "    </tr>\n",
       "  </thead>\n",
       "  <tbody>\n",
       "    <tr>\n",
       "      <th>5-6 years</th>\n",
       "      <td>12</td>\n",
       "      <td>18</td>\n",
       "      <td>30</td>\n",
       "    </tr>\n",
       "    <tr>\n",
       "      <th>7-8 years</th>\n",
       "      <td>14</td>\n",
       "      <td>21</td>\n",
       "      <td>35</td>\n",
       "    </tr>\n",
       "    <tr>\n",
       "      <th>9-10 years</th>\n",
       "      <td>14</td>\n",
       "      <td>21</td>\n",
       "      <td>35</td>\n",
       "    </tr>\n",
       "  </tbody>\n",
       "</table>\n",
       "</div>"
      ],
      "text/plain": [
       "             A   B   C\n",
       "5-6 years   12  18  30\n",
       "7-8 years   14  21  35\n",
       "9-10 years  14  21  35"
      ]
     },
     "execution_count": 211,
     "metadata": {},
     "output_type": "execute_result"
    }
   ],
   "source": [
    "table_E = table_O.copy()\n",
    "total = (table_O['A']+table_O['B']+table_O['C']).sum()\n",
    "column =table_O.columns.values\n",
    "row =table_O.index\n",
    "for i in column:\n",
    "    for j in row:\n",
    "        table_E[i][j]=(table_O[i].sum()*table_O.loc[j].sum())/total\n",
    "table_E\n"
   ]
  },
  {
   "cell_type": "code",
   "execution_count": 213,
   "id": "c46d40ef",
   "metadata": {},
   "outputs": [
    {
     "data": {
      "text/plain": [
       "29.603174603174605"
      ]
     },
     "execution_count": 213,
     "metadata": {},
     "output_type": "execute_result"
    }
   ],
   "source": [
    "x_f=[]\n",
    "for i in column:\n",
    "    for j in row:\n",
    "        x=(np.square(table_O[i][j]-table_E[i][j])/table_E[i][j])\n",
    "        x_f.append(x)\n",
    "x_2_test=np.array(x_f).sum()\n",
    "x_2_test"
   ]
  },
  {
   "cell_type": "raw",
   "id": "97cc836d",
   "metadata": {},
   "source": [
    "Degree of freedom df = (3-1)*(3-1)=4 and p< 0.05 -> X_2(0.05)= 9.488\n",
    "As X_2(0.05)<X_2_test there is enough evidence to reject H0. Then, there is a significant relationship between age and photograph preference"
   ]
  },
  {
   "cell_type": "raw",
   "id": "f785d5f5",
   "metadata": {},
   "source": [
    "Problem Statement 21:\n",
    "A study of conformity using the Asch paradigm involved two conditions: one where\n",
    "one confederate supported the true judgement and another where no confederate\n",
    "gave the correct response.\n",
    "Is there a significant difference between the \"support\" and \"no support\" conditions in the\n",
    "frequency with which individuals are likely to conform? [Chi-Square = 19.87, with 1 df:\n",
    "p < 0.05].\n",
    "H0: There is not significant difference between the support and no support conditions\n",
    "H1: There is a significant difference between the support and no support conditions\n"
   ]
  },
  {
   "attachments": {
    "image.png": {
     "image/png": "[encoded data removed]"
    }
   },
   "cell_type": "markdown",
   "id": "8e3abd97",
   "metadata": {},
   "source": [
    "![image.png](attachment:image.png)"
   ]
  },
  {
   "cell_type": "code",
   "execution_count": 214,
   "id": "c51be05f",
   "metadata": {},
   "outputs": [
    {
     "data": {
      "text/html": [
       "<div>\n",
       "<style scoped>\n",
       "    .dataframe tbody tr th:only-of-type {\n",
       "        vertical-align: middle;\n",
       "    }\n",
       "\n",
       "    .dataframe tbody tr th {\n",
       "        vertical-align: top;\n",
       "    }\n",
       "\n",
       "    .dataframe thead th {\n",
       "        text-align: right;\n",
       "    }\n",
       "</style>\n",
       "<table border=\"1\" class=\"dataframe\">\n",
       "  <thead>\n",
       "    <tr style=\"text-align: right;\">\n",
       "      <th></th>\n",
       "      <th>Support</th>\n",
       "      <th>No support</th>\n",
       "    </tr>\n",
       "  </thead>\n",
       "  <tbody>\n",
       "    <tr>\n",
       "      <th>Conform</th>\n",
       "      <td>18</td>\n",
       "      <td>40</td>\n",
       "    </tr>\n",
       "    <tr>\n",
       "      <th>Not conform</th>\n",
       "      <td>32</td>\n",
       "      <td>10</td>\n",
       "    </tr>\n",
       "  </tbody>\n",
       "</table>\n",
       "</div>"
      ],
      "text/plain": [
       "             Support  No support\n",
       "Conform           18          40\n",
       "Not conform       32          10"
      ]
     },
     "execution_count": 214,
     "metadata": {},
     "output_type": "execute_result"
    }
   ],
   "source": [
    "dic={'Support':[18,32], 'No support':[40,10]}\n",
    "index=['Conform', 'Not conform']\n",
    "table_O = pd.DataFrame(dic, index=index)\n",
    "table_O"
   ]
  },
  {
   "cell_type": "code",
   "execution_count": 215,
   "id": "db8de3f1",
   "metadata": {},
   "outputs": [
    {
     "data": {
      "text/html": [
       "<div>\n",
       "<style scoped>\n",
       "    .dataframe tbody tr th:only-of-type {\n",
       "        vertical-align: middle;\n",
       "    }\n",
       "\n",
       "    .dataframe tbody tr th {\n",
       "        vertical-align: top;\n",
       "    }\n",
       "\n",
       "    .dataframe thead th {\n",
       "        text-align: right;\n",
       "    }\n",
       "</style>\n",
       "<table border=\"1\" class=\"dataframe\">\n",
       "  <thead>\n",
       "    <tr style=\"text-align: right;\">\n",
       "      <th></th>\n",
       "      <th>Support</th>\n",
       "      <th>No support</th>\n",
       "    </tr>\n",
       "  </thead>\n",
       "  <tbody>\n",
       "    <tr>\n",
       "      <th>Conform</th>\n",
       "      <td>29</td>\n",
       "      <td>29</td>\n",
       "    </tr>\n",
       "    <tr>\n",
       "      <th>Not conform</th>\n",
       "      <td>21</td>\n",
       "      <td>21</td>\n",
       "    </tr>\n",
       "  </tbody>\n",
       "</table>\n",
       "</div>"
      ],
      "text/plain": [
       "             Support  No support\n",
       "Conform           29          29\n",
       "Not conform       21          21"
      ]
     },
     "execution_count": 215,
     "metadata": {},
     "output_type": "execute_result"
    }
   ],
   "source": [
    "table_E = table_O.copy()\n",
    "total = (table_O['Support']+table_O['No support']).sum()\n",
    "column =table_O.columns.values\n",
    "row =table_O.index\n",
    "for i in column:\n",
    "    for j in row:\n",
    "        table_E[i][j]=(table_O[i].sum()*table_O.loc[j].sum())/total\n",
    "table_E"
   ]
  },
  {
   "cell_type": "code",
   "execution_count": 216,
   "id": "202f3558",
   "metadata": {},
   "outputs": [
    {
     "data": {
      "text/plain": [
       "19.868637110016422"
      ]
     },
     "execution_count": 216,
     "metadata": {},
     "output_type": "execute_result"
    }
   ],
   "source": [
    "x_f=[]\n",
    "for i in column:\n",
    "    for j in row:\n",
    "        x=(np.square(table_O[i][j]-table_E[i][j])/table_E[i][j])\n",
    "        x_f.append(x)\n",
    "x_2_test=np.array(x_f).sum()\n",
    "x_2_test"
   ]
  },
  {
   "cell_type": "raw",
   "id": "fbf3ef8c",
   "metadata": {},
   "source": [
    "Degree of freedom df = (2-1)*(2-1)=1 and p< 0.05 -> X_2(0.05)= 3.841\n",
    "As X_2(0.05)<X_2_test there is enough evidence to reject H0. Then, there is a significant difference between the support and no support conditions"
   ]
  },
  {
   "cell_type": "raw",
   "id": "a9ed2490",
   "metadata": {},
   "source": [
    "Problem Statement 22:\n",
    "We want to test whether short people differ with respect to their leadership qualities\n",
    "(Genghis Khan, Adolf Hitler and Napoleon were all stature-deprived, and how many midget\n",
    "MP's are there?) The following table shows the frequencies with which 43 short people and\n",
    "52 tall people were categorized as \"leaders\", \"followers\" or as \"unclassifiable\". Is there a\n",
    "relationship between height and leadership qualities?\n",
    "[Chi-Square = 10.71, with 2 df: p < 0.01].\n",
    "\n",
    "Solution:\n",
    "H0:There is not a relationship between height and leadership qualities\n",
    "H1:There is a relationship between height and leadership qualities"
   ]
  },
  {
   "attachments": {
    "image.png": {
     "image/png": "[encoded data removed]"
    }
   },
   "cell_type": "markdown",
   "id": "8184ff06",
   "metadata": {},
   "source": [
    "![image.png](attachment:image.png)"
   ]
  },
  {
   "cell_type": "code",
   "execution_count": 217,
   "id": "7f175eda",
   "metadata": {},
   "outputs": [
    {
     "data": {
      "text/html": [
       "<div>\n",
       "<style scoped>\n",
       "    .dataframe tbody tr th:only-of-type {\n",
       "        vertical-align: middle;\n",
       "    }\n",
       "\n",
       "    .dataframe tbody tr th {\n",
       "        vertical-align: top;\n",
       "    }\n",
       "\n",
       "    .dataframe thead th {\n",
       "        text-align: right;\n",
       "    }\n",
       "</style>\n",
       "<table border=\"1\" class=\"dataframe\">\n",
       "  <thead>\n",
       "    <tr style=\"text-align: right;\">\n",
       "      <th></th>\n",
       "      <th>Short</th>\n",
       "      <th>Tall</th>\n",
       "    </tr>\n",
       "  </thead>\n",
       "  <tbody>\n",
       "    <tr>\n",
       "      <th>Leader</th>\n",
       "      <td>12</td>\n",
       "      <td>32</td>\n",
       "    </tr>\n",
       "    <tr>\n",
       "      <th>Follower</th>\n",
       "      <td>22</td>\n",
       "      <td>14</td>\n",
       "    </tr>\n",
       "    <tr>\n",
       "      <th>Unclassifiable</th>\n",
       "      <td>9</td>\n",
       "      <td>6</td>\n",
       "    </tr>\n",
       "  </tbody>\n",
       "</table>\n",
       "</div>"
      ],
      "text/plain": [
       "                Short  Tall\n",
       "Leader             12    32\n",
       "Follower           22    14\n",
       "Unclassifiable      9     6"
      ]
     },
     "execution_count": 217,
     "metadata": {},
     "output_type": "execute_result"
    }
   ],
   "source": [
    "dic={'Short':[12,22,9], 'Tall':[32,14,6]}\n",
    "index=['Leader', 'Follower', 'Unclassifiable']\n",
    "table_O = pd.DataFrame(dic, index=index)\n",
    "table_O"
   ]
  },
  {
   "cell_type": "code",
   "execution_count": 218,
   "id": "adda9e4a",
   "metadata": {},
   "outputs": [
    {
     "data": {
      "text/html": [
       "<div>\n",
       "<style scoped>\n",
       "    .dataframe tbody tr th:only-of-type {\n",
       "        vertical-align: middle;\n",
       "    }\n",
       "\n",
       "    .dataframe tbody tr th {\n",
       "        vertical-align: top;\n",
       "    }\n",
       "\n",
       "    .dataframe thead th {\n",
       "        text-align: right;\n",
       "    }\n",
       "</style>\n",
       "<table border=\"1\" class=\"dataframe\">\n",
       "  <thead>\n",
       "    <tr style=\"text-align: right;\">\n",
       "      <th></th>\n",
       "      <th>Short</th>\n",
       "      <th>Tall</th>\n",
       "    </tr>\n",
       "  </thead>\n",
       "  <tbody>\n",
       "    <tr>\n",
       "      <th>Leader</th>\n",
       "      <td>19</td>\n",
       "      <td>24</td>\n",
       "    </tr>\n",
       "    <tr>\n",
       "      <th>Follower</th>\n",
       "      <td>16</td>\n",
       "      <td>19</td>\n",
       "    </tr>\n",
       "    <tr>\n",
       "      <th>Unclassifiable</th>\n",
       "      <td>6</td>\n",
       "      <td>8</td>\n",
       "    </tr>\n",
       "  </tbody>\n",
       "</table>\n",
       "</div>"
      ],
      "text/plain": [
       "                Short  Tall\n",
       "Leader             19    24\n",
       "Follower           16    19\n",
       "Unclassifiable      6     8"
      ]
     },
     "execution_count": 218,
     "metadata": {},
     "output_type": "execute_result"
    }
   ],
   "source": [
    "table_E = table_O.copy()\n",
    "total = (table_O['Short']+table_O['Tall']).sum()\n",
    "column =table_O.columns.values\n",
    "row =table_O.index\n",
    "for i in column:\n",
    "    for j in row:\n",
    "        table_E[i][j]=(table_O[i].sum()*table_O.loc[j].sum())/total\n",
    "table_E"
   ]
  },
  {
   "cell_type": "code",
   "execution_count": 219,
   "id": "7d4e6c44",
   "metadata": {},
   "outputs": [
    {
     "data": {
      "text/plain": [
       "10.81140350877193"
      ]
     },
     "execution_count": 219,
     "metadata": {},
     "output_type": "execute_result"
    }
   ],
   "source": [
    "x_f=[]\n",
    "for i in column:\n",
    "    for j in row:\n",
    "        x=(np.square(table_O[i][j]-table_E[i][j])/table_E[i][j])\n",
    "        x_f.append(x)\n",
    "x_2_test=np.array(x_f).sum()\n",
    "x_2_test"
   ]
  },
  {
   "cell_type": "raw",
   "id": "8be6b81b",
   "metadata": {},
   "source": [
    "Degree of freedom df = (3-1)*(2-1)=2 and p< 0.01 -> X_2(0.01)= 9.210\n",
    "As X_2(0.01) < X_2_test there is enough evidence to reject H0. Then, there is a relationship between height and leadership qualities"
   ]
  },
  {
   "cell_type": "raw",
   "id": "c7805ceb",
   "metadata": {},
   "source": [
    "Problem Statement 23:\n",
    "Each respondent in the Current Population Survey of March 1993 was classified as employed, unemployed, or outside the labor force. The results for men in California age 35-44 can be cross-tabulated by marital status, as follows:"
   ]
  },
  {
   "attachments": {
    "image.png": {
     "image/png": "[encoded data removed]"
    }
   },
   "cell_type": "markdown",
   "id": "9c4188e4",
   "metadata": {},
   "source": [
    "![image.png](attachment:image.png)"
   ]
  },
  {
   "cell_type": "raw",
   "id": "be2e1fd4",
   "metadata": {},
   "source": [
    "Men of different marital status seem to have different distributions of labor force status. Or is\n",
    "this just chance variation? (you may assume the table results from a simple random sample.)\n",
    "\n",
    "Solution:\n",
    "H0: Men of different marital status have equal distribution of labor force status\n",
    "H1: Men of different marital status have different distribution of labor force status"
   ]
  },
  {
   "cell_type": "code",
   "execution_count": 220,
   "id": "6b0165d9",
   "metadata": {},
   "outputs": [
    {
     "data": {
      "text/html": [
       "<div>\n",
       "<style scoped>\n",
       "    .dataframe tbody tr th:only-of-type {\n",
       "        vertical-align: middle;\n",
       "    }\n",
       "\n",
       "    .dataframe tbody tr th {\n",
       "        vertical-align: top;\n",
       "    }\n",
       "\n",
       "    .dataframe thead th {\n",
       "        text-align: right;\n",
       "    }\n",
       "</style>\n",
       "<table border=\"1\" class=\"dataframe\">\n",
       "  <thead>\n",
       "    <tr style=\"text-align: right;\">\n",
       "      <th></th>\n",
       "      <th>Married</th>\n",
       "      <th>W_D_S</th>\n",
       "      <th>N_Married</th>\n",
       "    </tr>\n",
       "  </thead>\n",
       "  <tbody>\n",
       "    <tr>\n",
       "      <th>Employed</th>\n",
       "      <td>679</td>\n",
       "      <td>103</td>\n",
       "      <td>114</td>\n",
       "    </tr>\n",
       "    <tr>\n",
       "      <th>Unemployed</th>\n",
       "      <td>63</td>\n",
       "      <td>10</td>\n",
       "      <td>20</td>\n",
       "    </tr>\n",
       "    <tr>\n",
       "      <th>Not_labor_force</th>\n",
       "      <td>42</td>\n",
       "      <td>18</td>\n",
       "      <td>25</td>\n",
       "    </tr>\n",
       "  </tbody>\n",
       "</table>\n",
       "</div>"
      ],
      "text/plain": [
       "                 Married  W_D_S  N_Married\n",
       "Employed             679    103        114\n",
       "Unemployed            63     10         20\n",
       "Not_labor_force       42     18         25"
      ]
     },
     "execution_count": 220,
     "metadata": {},
     "output_type": "execute_result"
    }
   ],
   "source": [
    "dic={'Married':[679,63,42], 'W_D_S':[103,10,18], 'N_Married':[114,20,25]}\n",
    "index=['Employed', 'Unemployed', 'Not_labor_force']\n",
    "table_O = pd.DataFrame(dic, index=index)\n",
    "table_O"
   ]
  },
  {
   "cell_type": "code",
   "execution_count": 221,
   "id": "08b8f62a",
   "metadata": {},
   "outputs": [
    {
     "data": {
      "text/html": [
       "<div>\n",
       "<style scoped>\n",
       "    .dataframe tbody tr th:only-of-type {\n",
       "        vertical-align: middle;\n",
       "    }\n",
       "\n",
       "    .dataframe tbody tr th {\n",
       "        vertical-align: top;\n",
       "    }\n",
       "\n",
       "    .dataframe thead th {\n",
       "        text-align: right;\n",
       "    }\n",
       "</style>\n",
       "<table border=\"1\" class=\"dataframe\">\n",
       "  <thead>\n",
       "    <tr style=\"text-align: right;\">\n",
       "      <th></th>\n",
       "      <th>Married</th>\n",
       "      <th>W_D_S</th>\n",
       "      <th>N_Married</th>\n",
       "    </tr>\n",
       "  </thead>\n",
       "  <tbody>\n",
       "    <tr>\n",
       "      <th>Employed</th>\n",
       "      <td>654</td>\n",
       "      <td>109</td>\n",
       "      <td>132</td>\n",
       "    </tr>\n",
       "    <tr>\n",
       "      <th>Unemployed</th>\n",
       "      <td>67</td>\n",
       "      <td>11</td>\n",
       "      <td>13</td>\n",
       "    </tr>\n",
       "    <tr>\n",
       "      <th>Not_labor_force</th>\n",
       "      <td>62</td>\n",
       "      <td>10</td>\n",
       "      <td>12</td>\n",
       "    </tr>\n",
       "  </tbody>\n",
       "</table>\n",
       "</div>"
      ],
      "text/plain": [
       "                 Married  W_D_S  N_Married\n",
       "Employed             654    109        132\n",
       "Unemployed            67     11         13\n",
       "Not_labor_force       62     10         12"
      ]
     },
     "execution_count": 221,
     "metadata": {},
     "output_type": "execute_result"
    }
   ],
   "source": [
    "table_E = table_O.copy()\n",
    "total = (table_O['Married']+table_O['W_D_S']+table_O['N_Married']).sum()\n",
    "column =table_O.columns.values\n",
    "row =table_O.index\n",
    "for i in column:\n",
    "    for j in row:\n",
    "        table_E[i][j]=(table_O[i].sum()*table_O.loc[j].sum())/total\n",
    "table_E"
   ]
  },
  {
   "cell_type": "code",
   "execution_count": 222,
   "id": "1d8c16a4",
   "metadata": {},
   "outputs": [
    {
     "data": {
      "text/plain": [
       "34.77437024310625"
      ]
     },
     "execution_count": 222,
     "metadata": {},
     "output_type": "execute_result"
    }
   ],
   "source": [
    "x_f=[]\n",
    "for i in column:\n",
    "    for j in row:\n",
    "        x=(np.square(table_O[i][j]-table_E[i][j])/table_E[i][j])\n",
    "        x_f.append(x)\n",
    "x_2_test=np.array(x_f).sum()\n",
    "x_2_test"
   ]
  },
  {
   "cell_type": "raw",
   "id": "8b0df332",
   "metadata": {},
   "source": [
    "Degree of freedom df = (3-1)*(3-1)=4 and p< 0.05 -> X_2(0.05)= 9.488\n",
    "As X_2(0.05) < X_2_test there is enough evidence to reject H0. Then, Men of different marital status have different distribution of labor force status."
   ]
  }
 ],
 "metadata": {
  "kernelspec": {
   "display_name": "Python 3",
   "language": "python",
   "name": "python3"
  },
  "language_info": {
   "codemirror_mode": {
    "name": "ipython",
    "version": 3
   },
   "file_extension": ".py",
   "mimetype": "text/x-python",
   "name": "python",
   "nbconvert_exporter": "python",
   "pygments_lexer": "ipython3",
   "version": "3.8.5"
  }
 },
 "nbformat": 4,
 "nbformat_minor": 5
}
