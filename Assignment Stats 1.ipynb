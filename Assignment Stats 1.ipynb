{
 "cells": [
  {
   "cell_type": "raw",
   "metadata": {},
   "source": [
    "Calculate the mean, median, mode and standard deviation for the problem\n",
    "statements 1& 2.\n",
    "\n",
    "Problem Statement 1:\n",
    "The marks awarded for an assignment set for a Year 8 class of 20 students were as follows:\n",
    "6 7 5 7 7 8 7 6 9 7 4 10 6 8 8 9 5 6 4 8\n",
    "\n",
    "Problem Statement 2:\n",
    "The number of calls from motorists per day for roadside service was recorded for a particular month:\n",
    "28, 122, 217, 130, 120, 86, 80, 90, 140, 120, 70, 40, 145, 113, 90, 68, 174, 194, 170,\n",
    "100, 75, 104, 97, 75,123, 100, 75, 104, 97, 75, 123, 100, 89, 120, 109"
   ]
  },
  {
   "cell_type": "code",
   "execution_count": 2,
   "metadata": {},
   "outputs": [],
   "source": [
    "import numpy as np\n",
    "from scipy import stats"
   ]
  },
  {
   "cell_type": "code",
   "execution_count": 11,
   "metadata": {},
   "outputs": [],
   "source": [
    "def statistic(n):\n",
    "    \n",
    "    n_mean = np.mean(n)\n",
    "    n_median = np.median(n)\n",
    "    n_mode = stats.mode(n)\n",
    "    n_sd = np.std(n)\n",
    "\n",
    "    print('mean= {:.2f}, median= {}, mode= {}, standard deviation= {:.2f}'.format(n_mean, n_median, n_mode, n_sd))"
   ]
  },
  {
   "cell_type": "code",
   "execution_count": 7,
   "metadata": {},
   "outputs": [
    {
     "name": "stdout",
     "output_type": "stream",
     "text": [
      "mean= 6.85, median= 7.0, mode= ModeResult(mode=array([7]), count=array([5])), standard deviation= 1.59\n"
     ]
    }
   ],
   "source": [
    "# Problem Statement 1\n",
    "\n",
    "marks = np.array([6, 7, 5, 7, 7, 8, 7, 6, 9, 7, 4, 10, 6, 8, 8, 9, 5, 6, 4, 8])\n",
    "statistic(marks)"
   ]
  },
  {
   "cell_type": "code",
   "execution_count": 12,
   "metadata": {},
   "outputs": [
    {
     "name": "stdout",
     "output_type": "stream",
     "text": [
      "mean= 107.51, median= 100.0, mode= ModeResult(mode=array([75]), count=array([4])), standard deviation= 38.77\n"
     ]
    }
   ],
   "source": [
    "# Problem Statement 2\n",
    "\n",
    "n_calls=[28, 122, 217, 130, 120, 86, 80, 90, 140, 120, 70, 40, 145, 113, 90, 68, 174, 194, 170,100, 75, 104, 97, 75,123, 100, 75, 104, 97, 75, 123, 100, 89, 120, 109]\n",
    "statistic(n_calls)"
   ]
  },
  {
   "cell_type": "raw",
   "metadata": {},
   "source": [
    "Problem Statement 3:\n",
    "\n",
    "The number of times I go to the gym in weekdays, are given below along with its\n",
    "associated probability:\n",
    "x = 0, 1, 2, 3, 4, 5\n",
    "f(x) = 0.09, 0.15, 0.40, 0.25, 0.10, 0.01\n",
    "Calculate the mean no. of workouts in a week. Also evaluate the variance involved in it."
   ]
  },
  {
   "cell_type": "code",
   "execution_count": 23,
   "metadata": {},
   "outputs": [
    {
     "name": "stdout",
     "output_type": "stream",
     "text": [
      "mean= 2.15, variance= 1.2275\n"
     ]
    }
   ],
   "source": [
    "x=np.array([0,1,2,3,4,5])\n",
    "p=np.array([0.09,0.15,0.40,0.25,0.10,0.01])\n",
    "x_mean=np.sum(x*p)\n",
    "variance=np.sum(np.power(x,2)*p)-np.power(x_mean,2)\n",
    "print(\"mean= {}, variance= {}\".format(x_mean, variance))"
   ]
  },
  {
   "cell_type": "raw",
   "metadata": {},
   "source": [
    "Problem Statement 4:\n",
    "Let the continuous random variable D denote the diameter of the hole drilled in an aluminum sheet. The target diameter to be achieved is 12.5mm. Random disturbances in the process often result in inaccuracy.\n",
    "Historical data shows that the distribution of D can be modelled by the PDF (𝑑) =20𝑒−20(𝑑−12.5), 𝑑 ≥ 12.5. If a part with diameter > 12.6 mm needs to be scrapped, what is the proportion of those parts? What is the CDF when the diameter is of 11 mm? What is your conclusion regarding the proportion of scraps?"
   ]
  },
  {
   "cell_type": "markdown",
   "metadata": {},
   "source": [
    "PDF(d)= 20*np.exp(-20*(d-12.5)), d>= 12.5\n",
    "\n",
    "If a part with diameter > 12.6 mm needs to be scrapped, what is the proportion of those parts?"
   ]
  },
  {
   "cell_type": "code",
   "execution_count": 50,
   "metadata": {},
   "outputs": [
    {
     "data": {
      "text/plain": [
       "0.13533528323661365"
      ]
     },
     "execution_count": 50,
     "metadata": {},
     "output_type": "execute_result"
    }
   ],
   "source": [
    "PDF= -0--np.exp(-20*(12.6-12.5))\n",
    "PDF"
   ]
  },
  {
   "cell_type": "code",
   "execution_count": 51,
   "metadata": {},
   "outputs": [
    {
     "data": {
      "text/latex": [
       "$\\displaystyle P(d>12.6) = \\int_{12.6}^{\\infty} 20 e^{-20(d-12.5)} dd= -e^{-20(d-12.5)}|_{12.6}^{\\infty}=0.135$"
      ],
      "text/plain": [
       "<IPython.core.display.Math object>"
      ]
     },
     "metadata": {},
     "output_type": "display_data"
    },
    {
     "name": "stdout",
     "output_type": "stream",
     "text": [
      "The proportion of those parts is 0.135\n"
     ]
    }
   ],
   "source": [
    "from IPython.display import display, Math, Latex\n",
    "display(Math(r\"P(d>12.6) = \\int_{12.6}^{\\infty} 20 e^{-20(d-12.5)} dd= -e^{-20(d-12.5)}|_{12.6}^{\\infty}=0.135\"))\n",
    "print(\"The proportion of those parts is 0.135\")"
   ]
  },
  {
   "cell_type": "markdown",
   "metadata": {},
   "source": [
    "What is the CDF when the diameter is of 11mm? \n",
    "In this case the CDF is zero, because the distribution of D is PDF(𝑑)= 20𝑒^(−20(𝑑−12.5)) for 𝑑 ≥ 12.5. \n",
    "So, PDF(𝑑)= 0 for 𝑑 < 12.5 de \n",
    "What is your conclusion regarding the proportion of scraps?\n",
    "In conclusion, I can say that the proportion of scraps has two expressions:\n",
    "P(d)=0, 𝑑 < 12.5\n",
    "P(d)=1-𝑒^(−20(𝑑−12.5)), 𝑑 ≥ 12.5. In this case, as d increases P(d) tends to 1. "
   ]
  },
  {
   "cell_type": "raw",
   "metadata": {},
   "source": [
    "Problem Statement 5:\n",
    "A company manufactures LED bulbs with a faulty rate of 30%. If I randomly select 6\n",
    "chosen LEDs, what is the probability of having 2 faulty LEDs in my sample?\n",
    "Calculate the average value of this process. Also evaluate the standard deviation\n",
    "associated with it.\n",
    "\n",
    "p=0.3 n=6 x=2"
   ]
  },
  {
   "cell_type": "code",
   "execution_count": 55,
   "metadata": {},
   "outputs": [
    {
     "data": {
      "text/latex": [
       "$\\displaystyle P(x=2) = C_{2}^{6}0.3^{2}0.7^{4}=0.3241$"
      ],
      "text/plain": [
       "<IPython.core.display.Math object>"
      ]
     },
     "metadata": {},
     "output_type": "display_data"
    }
   ],
   "source": [
    "display(Math(r\"P(x=2) = C_{2}^{6}0.3^{2}0.7^{4}=0.3241\"))"
   ]
  },
  {
   "cell_type": "code",
   "execution_count": 104,
   "metadata": {},
   "outputs": [
    {
     "data": {
      "text/plain": [
       "0.3241349999999999"
      ]
     },
     "execution_count": 104,
     "metadata": {},
     "output_type": "execute_result"
    }
   ],
   "source": [
    "def factorial(number):\n",
    "    result=1\n",
    "    if number >= 1:\n",
    "        for i in range(1,int(number)+1):\n",
    "            result=result*i\n",
    "    \n",
    "    return result\n",
    "\n",
    "def P_binomial(n,x,p):\n",
    "    C=factorial(n)/(factorial(x)*factorial(n-x))\n",
    "    P_B=C*np.power(p,x)*np.power(1-p,n-x)\n",
    "    return P_B\n",
    "\n",
    "P_x2= P_binomial(6,2,0.3)\n",
    "P_x2"
   ]
  },
  {
   "cell_type": "code",
   "execution_count": 106,
   "metadata": {},
   "outputs": [
    {
     "data": {
      "text/plain": [
       "0.32413499999999995"
      ]
     },
     "execution_count": 106,
     "metadata": {},
     "output_type": "execute_result"
    }
   ],
   "source": [
    "# using probability mass funtion(x,n,p)\n",
    "P_x2=stats.binom.pmf(2,6,0.3)\n",
    "P_x2"
   ]
  },
  {
   "cell_type": "raw",
   "metadata": {},
   "source": [
    "The binomial distribution has the following properties:\n",
    "\n",
    "The mean of the distribution μ is equal to n * P .\n",
    "The variance σ^2 is n * P * ( 1 - P ).\n",
    "The standard deviation σ is sqrt[ n * P * ( 1 - P ) ].\n",
    "Where: \n",
    "x- The number of successes that result from the binomial experiment.\n",
    "n- The number of trials in the binomial experiment.\n",
    "P- The probability of success on an individual trial.\n",
    "\n",
    "In this case, n=6, P=0.3, x=2"
   ]
  },
  {
   "cell_type": "code",
   "execution_count": 115,
   "metadata": {},
   "outputs": [
    {
     "name": "stdout",
     "output_type": "stream",
     "text": [
      "average: 1.80, standard deviation: 1.12\n"
     ]
    }
   ],
   "source": [
    "# Using binom.stats funtion \n",
    "mean, var= stats.binom.stats(6,0.3)\n",
    "std= np.sqrt(var)\n",
    "print(\"average: {:.2f}, standard deviation: {:.2f}\".format(mean, std))"
   ]
  },
  {
   "cell_type": "markdown",
   "metadata": {},
   "source": [
    "Problem Statement 6:\n",
    "Gaurav and Barakha are both preparing for entrance exams. Gaurav attempts to\n",
    "solve 8 questions per day with a correction rate of 75%, while Barakha averages\n",
    "around 12 questions per day with a correction rate of 45%. What is the probability\n",
    "that each of them will solve 5 questions correctly? What happens in cases of 4 and 6\n",
    "correct solutions? What do you infer from it? What are the two main governing\n",
    "factors affecting their ability to solve questions correctly? Give a pictorial\n",
    "representation of the same to validate your answer."
   ]
  },
  {
   "cell_type": "code",
   "execution_count": 159,
   "metadata": {},
   "outputs": [
    {
     "name": "stdout",
     "output_type": "stream",
     "text": [
      "Probability to solve 5 questions correctly is for Gaurav: 0.21 and for Barakha: 0.22\n"
     ]
    }
   ],
   "source": [
    "# What is the probability that each of them will solve 5 questions correctly?\n",
    "# Gaurav: n=8, x=5, p=0.75\n",
    "P_G_5q_ok= P_binomial(8,5,0.75)\n",
    "\n",
    "# Barakha: n=12, x=5, p=0.45\n",
    "P_B_5q_ok= P_binomial(12,5,0.45)\n",
    "\n",
    "print(\"Probability to solve 5 questions correctly is for Gaurav: {:.2f} and for Barakha: {:.2f}\".format(P_G_5q_ok, P_B_5q_ok))\n"
   ]
  },
  {
   "cell_type": "code",
   "execution_count": 160,
   "metadata": {},
   "outputs": [
    {
     "name": "stdout",
     "output_type": "stream",
     "text": [
      "Probability to solve 4 questions correctly is for Gaurav: 0.09 and for Barakha: 0.17\n"
     ]
    }
   ],
   "source": [
    "#What happens in cases of 4 and 6 correct solutions? \n",
    "# 4 correct solutions\n",
    "# Gaurav: n=8, x=4, p=0.75\n",
    "P_G_4q_ok= P_binomial(8,4,0.75)\n",
    "\n",
    "# Barakha: n=12, x=4, p=0.45\n",
    "P_B_4q_ok= P_binomial(12,4,0.45)\n",
    "\n",
    "print(\"Probability to solve 4 questions correctly is for Gaurav: {:.2f} and for Barakha: {:.2f}\".format(P_G_4q_ok, P_B_4q_ok))"
   ]
  },
  {
   "cell_type": "code",
   "execution_count": 161,
   "metadata": {},
   "outputs": [
    {
     "name": "stdout",
     "output_type": "stream",
     "text": [
      "Probability to solve 6 questions correctly is for Gaurav: 0.31 and for Barakha: 0.21\n"
     ]
    }
   ],
   "source": [
    "# 6 correct solutions\n",
    "# Gaurav: n=8, x=6, p=0.75\n",
    "P_G_6q_ok= P_binomial(8,6,0.75)\n",
    "\n",
    "# Barakha: n=12, x=6, p=0.45\n",
    "P_B_6q_ok= P_binomial(12,6,0.45)\n",
    "\n",
    "print(\"Probability to solve 6 questions correctly is for Gaurav: {:.2f} and for Barakha: {:.2f}\".format(P_G_6q_ok, P_B_6q_ok))"
   ]
  },
  {
   "cell_type": "markdown",
   "metadata": {},
   "source": [
    "What do you infer from it? What are the two main governing factors affecting their ability to solve questions correctly? \n",
    "I infer that Barakha has more probability to solve correct questions when the number of successes is equal to or below 5, despite he has a smaller correction rate (45%) than Gaurav(75%). Here, the number of questions solved per day is the factor that impacts this result. Also, in the case of Barakha, the probabilities to solve 4, 5, and 6 correct questions are close and almost equal for 5 and 6 correct questions. In the case of Gaurav, he has more probability to solve correctly 6, 7, and 8 questions than Barakha, that is because he has a higher correction rate. So, I think the two main governing factors that affect their ability to solve questions correctly are the number of questions solved per day and the correction rate."
   ]
  },
  {
   "cell_type": "code",
   "execution_count": 194,
   "metadata": {},
   "outputs": [
    {
     "data": {
      "image/png": "[encoded data removed]",
      "text/plain": [
       "<Figure size 720x360 with 1 Axes>"
      ]
     },
     "metadata": {
      "needs_background": "light"
     },
     "output_type": "display_data"
    }
   ],
   "source": [
    "# Give a pictorial representation of the same to validate your answer.\n",
    "import matplotlib.pyplot as plt\n",
    "# Gaurav: n=8,  p=0.75\n",
    "n, p= 8,0.75\n",
    "# Barakha: n=12,  p=0.45\n",
    "n1, p1= 12,0.45\n",
    "\n",
    "fig, ax = plt.subplots(1,1,figsize=(10,5))\n",
    "x = np.arange(1,9)\n",
    "x1= np.arange(1,13)\n",
    "ax.plot(x, stats.binom.pmf(x, n, p) , 'bo', ms=8, label='binom pmf_Gaurav')\n",
    "ax.vlines(x, 0, stats.binom.pmf(x, n, p), colors='b', lw=5, alpha=0.5)\n",
    "ax.plot(x1, stats.binom.pmf(x1, n1, p1) , 'ro', ms=8, label='binom pmf_Barakha')\n",
    "ax.vlines(x1, 0, stats.binom.pmf(x1, n1, p1), colors='r', lw=5, alpha=0.5)\n",
    "ax.legend();\n"
   ]
  },
  {
   "cell_type": "markdown",
   "metadata": {},
   "source": [
    "Problem Statement 7:\n",
    "Customers arrive at a rate of 72 per hour to my shop. What is the probability of 𝑘\n",
    "customers arriving in 4 minutes?\n",
    "a) 5 customers, b) not more than 3 customers, c) more than 3 customers. \n",
    "Give a pictorial representation of the same to validate your answer."
   ]
  },
  {
   "cell_type": "code",
   "execution_count": 211,
   "metadata": {},
   "outputs": [
    {
     "name": "stdout",
     "output_type": "stream",
     "text": [
      "The probability of 5 customers arraving in 4 min is  0.17\n"
     ]
    }
   ],
   "source": [
    "# rate per minute\n",
    "a_m= 72/60\n",
    "a_4m=a_m*4 # rate in 4 min\n",
    "a_4m\n",
    "\n",
    "# What is the probability of 𝑘 customers arriving in 4 minutes? \n",
    "# a) 5 customers\n",
    "\n",
    "def poisson_p(ave, x):\n",
    "    f=np.exp(-ave)*np.power(ave,x)/factorial(x)\n",
    "    return f\n",
    "P=poisson_p(a_4m,5)\n",
    "\n",
    "print(\"The probability of 5 customers arraving in 4 min is \", str(round(P,2)))"
   ]
  },
  {
   "cell_type": "code",
   "execution_count": 205,
   "metadata": {},
   "outputs": [
    {
     "name": "stdout",
     "output_type": "stream",
     "text": [
      "The probability of not more than 3 customers arraving in 4 min is  0.29422991649656405\n"
     ]
    }
   ],
   "source": [
    "#b) not more than 3 customers -> P=P(x=0)+P(x=1)+P(x=2)+P(x=3)\n",
    "P1=stats.poisson.pmf(0,a_4m)+stats.poisson.pmf(1,a_4m)+stats.poisson.pmf(2,a_4m)+stats.poisson.pmf(3,a_4m)\n",
    "print(\"The probability of not more than 3 customers arraving in 4 min is \", str(P1))"
   ]
  },
  {
   "cell_type": "code",
   "execution_count": 204,
   "metadata": {},
   "outputs": [
    {
     "name": "stdout",
     "output_type": "stream",
     "text": [
      "The probability of more than 3 customers arraving in 4 min is  0.705770083503436\n"
     ]
    }
   ],
   "source": [
    "# c) more than 3 customers. -> P=1-(P(x=0)+P(x=1)+P(x=2)+P(x=3))\n",
    "P2=1-(stats.poisson.pmf(0,a_4m)+stats.poisson.pmf(1,a_4m)+stats.poisson.pmf(2,a_4m)+stats.poisson.pmf(3,a_4m))\n",
    "print(\"The probability of more than 3 customers arraving in 4 min is \", str(P2))"
   ]
  },
  {
   "cell_type": "code",
   "execution_count": 213,
   "metadata": {
    "scrolled": true
   },
   "outputs": [
    {
     "data": {
      "image/png": "[encoded data removed]",
      "text/plain": [
       "<Figure size 720x360 with 1 Axes>"
      ]
     },
     "metadata": {
      "needs_background": "light"
     },
     "output_type": "display_data"
    }
   ],
   "source": [
    "fig, ax = plt.subplots(1,1,figsize=(10,5))\n",
    "\n",
    "x = np.arange(stats.poisson.ppf(0.01,a_4m),stats.poisson.ppf(0.99,a_4m))\n",
    "ax.plot(x, stats.poisson.pmf(x, a_4m) , 'bo', ms=8, label='poisson_pmf')\n",
    "ax.vlines(x, 0, stats.poisson.pmf(x, a_4m), colors='b', lw=5, alpha=0.5)\n",
    "ax.legend();\n"
   ]
  },
  {
   "cell_type": "markdown",
   "metadata": {},
   "source": [
    "Problem Statement 8:\n",
    "I work as a data analyst in Aeon Learning Pvt. Ltd. After analyzing data, I make\n",
    "reports, where I have the efficiency of entering 77 words per minute with 6 errors per\n",
    "hour. What is the probability that I will commit 2 errors in a 455-word financial report?\n",
    "What happens when the no. of words increases/decreases (in case of 1000 words, 255 words)?\n",
    "How is the 𝜆 affected?\n",
    "How does it influence the PMF?\n",
    "Give a pictorial representation of the same to validate your answer.\n"
   ]
  },
  {
   "cell_type": "code",
   "execution_count": 218,
   "metadata": {},
   "outputs": [
    {
     "name": "stdout",
     "output_type": "stream",
     "text": [
      "The probability of commit 2 errors in a 455-word financial report is 0.1\n"
     ]
    }
   ],
   "source": [
    "# 77 words per min \n",
    "w_h=77*60 # words per hour\n",
    "rate= 6/w_h #error/words\n",
    "# erros in 455 words\n",
    "error= rate*455\n",
    "\n",
    "#What is the probability that I will commit 2 errors in a 455-word financial report?\n",
    "P=stats.poisson.pmf(2,error)\n",
    "print(\"The probability of commit 2 errors in a 455-word financial report is\", str(round(P,3)))"
   ]
  },
  {
   "cell_type": "code",
   "execution_count": 220,
   "metadata": {},
   "outputs": [
    {
     "name": "stdout",
     "output_type": "stream",
     "text": [
      "The probability of commit 2 errors in 1000-words is 0.23 and in 255-words is 0.04\n"
     ]
    }
   ],
   "source": [
    "# What happens when the no. of words increases/decreases (in case of 1000 words, 255 words)?\n",
    "# 1000 words\n",
    "P1=stats.poisson.pmf(2,rate*1000)\n",
    "\n",
    "#255 words\n",
    "P2=stats.poisson.pmf(2,rate*255)\n",
    "\n",
    "print(\"The probability of commit 2 errors in 1000-words is {:.2f} and in 255-words is {:.2f}\".format(P1,P2))"
   ]
  },
  {
   "cell_type": "markdown",
   "metadata": {},
   "source": [
    "How is the μ affected?\n",
    "How does it influence the PMF?\n",
    "μ increases with the raising of the number of words. That impact directily in the PMF, which also increase with the number of words. So, as the number of words increase in the financial report the probability of commit errors increase too."
   ]
  },
  {
   "cell_type": "code",
   "execution_count": 228,
   "metadata": {},
   "outputs": [
    {
     "data": {
      "image/png": "[encoded data removed]",
      "text/plain": [
       "<Figure size 720x720 with 4 Axes>"
      ]
     },
     "metadata": {
      "needs_background": "light"
     },
     "output_type": "display_data"
    }
   ],
   "source": [
    "fig, ax = plt.subplots(2,2,figsize=(10,10))\n",
    "\n",
    "x = np.arange(stats.poisson.ppf(0.01,error),stats.poisson.ppf(0.99,error))\n",
    "ax[0,0].plot(x, stats.poisson.pmf(x, error) , 'bo', ms=8, label='poisson_pmf_for 455 words')\n",
    "ax[0,0].vlines(x, 0, stats.poisson.pmf(x, error), colors='b', lw=5, alpha=0.5)\n",
    "ax[0,0].legend()\n",
    "\n",
    "x1 = np.arange(stats.poisson.ppf(0.01,rate*1000),stats.poisson.ppf(0.99,rate*1000))\n",
    "ax[0,1].plot(x1, stats.poisson.pmf(x1, rate*1000) , 'bo', ms=8, label='poisson_pmf_for 1000 words')\n",
    "ax[0,1].vlines(x1, 0, stats.poisson.pmf(x1, rate*1000), colors='b', lw=5, alpha=0.5)\n",
    "ax[0,1].legend()\n",
    "\n",
    "x2 = np.arange(stats.poisson.ppf(0.01,rate*255),stats.poisson.ppf(0.99,rate*255))\n",
    "ax[1,0].plot(x2, stats.poisson.pmf(x2, rate*255) , 'bo', ms=8, label='poisson_pmf_for 255 words')\n",
    "ax[1,0].vlines(x2, 0, stats.poisson.pmf(x2, rate*255), colors='b', lw=5, alpha=0.5)\n",
    "ax[1,0].legend()\n",
    "\n",
    "x3 = np.arange(stats.poisson.ppf(0.01,rate*4000),stats.poisson.ppf(0.99,rate*4000))\n",
    "ax[1,1].plot(x3, stats.poisson.pmf(x3, rate*4000) , 'bo', ms=8, label='poisson_pmf_for 4000 words')\n",
    "ax[1,1].vlines(x3, 0, stats.poisson.pmf(x3, rate*4000), colors='b', lw=5, alpha=0.5)\n",
    "ax[1,1].legend();"
   ]
  },
  {
   "cell_type": "raw",
   "metadata": {},
   "source": [
    "Problem Statement 10:\n",
    "Please compute the following:\n",
    "a) P(Z > 1.26), . P(Z < −0.86), P(Z > −1.37), P(−1.25 < Z < 0.37), . P(Z ≤ −4.6)\n",
    "b) Find the value 𝑧 such that 𝑃(𝑍 > 𝑧) = 0.05\n",
    "c) Find the value of 𝑧 such that 𝑃(−𝑧 < 𝑍 < 𝑧) = 0.99\n",
    "\n",
    "Solution:\n",
    "a)P(Z > 1.26)= 1-P(Z < 1.26)= 1 - 0.8962 = 0.1038\n",
    "  P(Z < −0.86)= 0.1949\n",
    "  P(Z > −1.37)= 1-P(Z < -1.37)= 1 - 0.0853 = 0.9147\n",
    "  P(−1.25 < Z < 0.37)=P(Z< 0.37)-P(Z< -1.25)= 0.6443-0.1056 - = 0.5387\n",
    "  P(Z ≤ −4.6)=0\n",
    "\n",
    "b)𝑃(𝑍 > 𝑧) = 0.05 = 1-𝑃(𝑍 < 𝑧)\n",
    "  𝑃(𝑍 < 𝑧)=1-0.05=0.95, then 𝑧 = 1.65\n",
    "    \n",
    "c) Find the value of 𝑧 such that \n",
    "  𝑃(−𝑧 < 𝑍 < 𝑧) = 0.99 = P(Z < 𝑧)-P(Z< -𝑧)\n",
    "  0.99/2=0.495\n",
    "  P(𝑍 < 𝑧)= P(𝑧<0)+0.495= 0.5+0.495=0.995 -> 𝑧=2.58\n",
    "  P(Z< -𝑧)= P(𝑧<0)-0.495= 0.5-0.495=0.005 -> -𝑧=-2.58\n",
    "     "
   ]
  },
  {
   "cell_type": "markdown",
   "metadata": {},
   "source": [
    "Problem Statement 11:\n",
    "The current flow in a copper wire follow a normal distribution with a mean of 10 𝑚A\n",
    "and a variance of 4 (𝑚𝐴)2.\n",
    "What is the probability that a current measurement will exceed 13 𝑚𝐴? What is the\n",
    "probability that a current measurement is between 9 and 11mA? Determine the\n",
    "current measurement which has a probability of 0.98."
   ]
  },
  {
   "cell_type": "markdown",
   "metadata": {},
   "source": [
    "Solution:\n",
    "What is the probability that a current measurement will exceed 13 𝑚𝐴?\n",
    "mean=10\n",
    "std_d=2\n",
    "z_13= (13-10)/2 =1.5\n",
    "P(Z>1.5)=1-P(Z<1.5)=1-0.9332= 0.0668\n",
    "The probability that a current measurement will exceed 13 𝑚𝐴 is 0.0668\n",
    "\n",
    "What is the probability that a current measurement is between 9 and 11mA?\n",
    "z_9=(9-10)/2= -0.5\n",
    "z_11=(11-10)/2=0.5\n",
    "P(z_9< Z < z_11)= P(Z<z_11)-P(Z<z_9)=0.6915-0.3085= 0.383\n",
    "The probability that a current measurement is between 9 and 11mA is 0.383\n",
    "\n",
    "Determine the current measurement which has a probability of 0.98.\n",
    "\n",
    "P(-z<Z<z)=0.98 = P(Z<z)-P(Z<-z)=0.98\n",
    "0.98/2=0.49\n",
    "P(Z< z)=P(Z<0.0)+0.49=0.5+0.49=0.99\n",
    "P(Z<-z)=P(Z<0.0)-0.49=0.5-0.49=0.01\n",
    "z=2.33 ->14.66mA\n",
    "-z=-2.33 ->5.34mA\n",
    "There is a probability of 0.98 if the current measurement is between 5.34 and 14.66mA.\n"
   ]
  },
  {
   "cell_type": "markdown",
   "metadata": {},
   "source": [
    "Problem Statement 12:\n",
    "The shaft in a piston has its diameter normally distributed with a mean of 0.2508 inch\n",
    "and a standard deviation of 0.0005 inch. The specifications of the shaft are 0.2500 ∓\n",
    "0.0015 inch. What proportion of shafts are in sync with the specifications? If the\n",
    "process is centered so that the mean is equal to the target value of 0.2500, what\n",
    "proportion of shafts conform to the new specifications? What is your conclusion from\n",
    "this experiment?\n",
    "\n",
    "Z= (x – μ) / σ"
   ]
  },
  {
   "cell_type": "code",
   "execution_count": 232,
   "metadata": {},
   "outputs": [
    {
     "name": "stdout",
     "output_type": "stream",
     "text": [
      "z_x1: -4.6000, z_x2: 1.4000\n"
     ]
    }
   ],
   "source": [
    "# What proportion of shafts are in sync with the specifications?\n",
    "\n",
    "x1=0.2500-0.0015\n",
    "x2=0.2500+0.0015\n",
    "\n",
    "z_x1=(x1-0.2508)/0.0005\n",
    "z_x2=(x2-0.2508)/0.0005\n",
    "\n",
    "print(\"z_x1: {:.4f}, z_x2: {:.4f}\".format(z_x1, z_x2))"
   ]
  },
  {
   "cell_type": "markdown",
   "metadata": {},
   "source": [
    "next step is to calculate P(z_x1<Z<z_x2)=P(Z<z_x2)-P(Z<z_x1). In this case z_x1=-4.6000 dosen't appear in the Z table, so I assume that P(Z<z_x1)=0\n",
    "P(z_x1<Z<z_x2)=0.9192-0= 0.9192\n",
    "\n",
    "The proportion of shafts that are in sync with the specifications is 91.92%.\n"
   ]
  },
  {
   "cell_type": "code",
   "execution_count": 233,
   "metadata": {},
   "outputs": [
    {
     "name": "stdout",
     "output_type": "stream",
     "text": [
      "z_x1: -3.0000, z_x2: 3.0000\n"
     ]
    }
   ],
   "source": [
    "# If the process is centered, so that the mean is equal to the target value of 0.2500, what\n",
    "# proportion of shafts conform to the new specifications?\n",
    "x1=0.2500-0.0015\n",
    "x2=0.2500+0.0015\n",
    "\n",
    "z_x1=(x1-0.2500)/0.0005\n",
    "z_x2=(x2-0.2500)/0.0005\n",
    "\n",
    "print(\"z_x1: {:.4f}, z_x2: {:.4f}\".format(z_x1, z_x2))"
   ]
  },
  {
   "cell_type": "markdown",
   "metadata": {},
   "source": [
    "#P(z_x1<Z<z_x2)=P(Z<z_x2)-P(Z<z_x1)\n",
    "P(z_x1<Z<z_x2)=0.9987-0.0013=0.9974\n",
    "In this case, the proportion of shafts that are in sync with the specifications is 99.74%, almost 100%.\n",
    "\n",
    "What is your conclusion from this experiment?\n",
    "As the process is more centered (mean=target) the more proportion of shafts are in sync with the specifications, with the same standart deviation."
   ]
  },
  {
   "cell_type": "code",
   "execution_count": null,
   "metadata": {},
   "outputs": [],
   "source": []
  }
 ],
 "metadata": {
  "kernelspec": {
   "display_name": "tensorflow_projects",
   "language": "python",
   "name": "tensorflow_projects"
  },
  "language_info": {
   "codemirror_mode": {
    "name": "ipython",
    "version": 3
   },
   "file_extension": ".py",
   "mimetype": "text/x-python",
   "name": "python",
   "nbconvert_exporter": "python",
   "pygments_lexer": "ipython3",
   "version": "3.8.5"
  }
 },
 "nbformat": 4,
 "nbformat_minor": 4
}
