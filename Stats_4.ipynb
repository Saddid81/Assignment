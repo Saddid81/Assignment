{
 "cells": [
  {
   "cell_type": "code",
   "execution_count": 1,
   "id": "3888844c",
   "metadata": {},
   "outputs": [],
   "source": [
    "import numpy as np\n",
    "import pandas as pd\n",
    "from scipy import stats as st"
   ]
  },
  {
   "cell_type": "raw",
   "id": "3f2dfeb3",
   "metadata": {},
   "source": [
    "Problem Statement 1:\n",
    "Is gender independent of education level? A random sample of 395 people were\n",
    "surveyed and each person was asked to report the highest education level they\n",
    "obtained. The data that resulted from the survey is summarized in the following table:"
   ]
  },
  {
   "attachments": {
    "image.png": {
     "image/png": "[encoded data removed]"
    }
   },
   "cell_type": "markdown",
   "id": "e41ef21b",
   "metadata": {},
   "source": [
    "![image.png](attachment:image.png)"
   ]
  },
  {
   "cell_type": "raw",
   "id": "3492c325",
   "metadata": {},
   "source": [
    "Question: Are gender and education level dependent at 5% level of significance? In\n",
    "other words, given the data collected above, is there a relationship between the\n",
    "gender of an individual and the level of education that they have obtained?\n",
    "\n",
    "Solution:\n",
    "H0: there isn't a relationship between the gender and the level of education \n",
    "H1: there is a relationship between the gender and the level of education"
   ]
  },
  {
   "cell_type": "code",
   "execution_count": 3,
   "id": "cd998909",
   "metadata": {},
   "outputs": [
    {
     "data": {
      "text/html": [
       "<div>\n",
       "<style scoped>\n",
       "    .dataframe tbody tr th:only-of-type {\n",
       "        vertical-align: middle;\n",
       "    }\n",
       "\n",
       "    .dataframe tbody tr th {\n",
       "        vertical-align: top;\n",
       "    }\n",
       "\n",
       "    .dataframe thead th {\n",
       "        text-align: right;\n",
       "    }\n",
       "</style>\n",
       "<table border=\"1\" class=\"dataframe\">\n",
       "  <thead>\n",
       "    <tr style=\"text-align: right;\">\n",
       "      <th></th>\n",
       "      <th>H_School</th>\n",
       "      <th>Bachelors</th>\n",
       "      <th>Masters</th>\n",
       "      <th>Ph.D.</th>\n",
       "    </tr>\n",
       "  </thead>\n",
       "  <tbody>\n",
       "    <tr>\n",
       "      <th>Female</th>\n",
       "      <td>60</td>\n",
       "      <td>54</td>\n",
       "      <td>46</td>\n",
       "      <td>41</td>\n",
       "    </tr>\n",
       "    <tr>\n",
       "      <th>Male</th>\n",
       "      <td>40</td>\n",
       "      <td>44</td>\n",
       "      <td>53</td>\n",
       "      <td>57</td>\n",
       "    </tr>\n",
       "  </tbody>\n",
       "</table>\n",
       "</div>"
      ],
      "text/plain": [
       "        H_School  Bachelors  Masters  Ph.D.\n",
       "Female        60         54       46     41\n",
       "Male          40         44       53     57"
      ]
     },
     "execution_count": 3,
     "metadata": {},
     "output_type": "execute_result"
    }
   ],
   "source": [
    "dic={'H_School':[60,40], 'Bachelors':[54, 44], 'Masters':[46, 53], 'Ph.D.':[41, 57]}\n",
    "index=['Female', 'Male']\n",
    "table_O = pd.DataFrame(dic, index=index)\n",
    "table_O"
   ]
  },
  {
   "cell_type": "code",
   "execution_count": 4,
   "id": "0896be4c",
   "metadata": {},
   "outputs": [
    {
     "data": {
      "text/html": [
       "<div>\n",
       "<style scoped>\n",
       "    .dataframe tbody tr th:only-of-type {\n",
       "        vertical-align: middle;\n",
       "    }\n",
       "\n",
       "    .dataframe tbody tr th {\n",
       "        vertical-align: top;\n",
       "    }\n",
       "\n",
       "    .dataframe thead th {\n",
       "        text-align: right;\n",
       "    }\n",
       "</style>\n",
       "<table border=\"1\" class=\"dataframe\">\n",
       "  <thead>\n",
       "    <tr style=\"text-align: right;\">\n",
       "      <th></th>\n",
       "      <th>H_School</th>\n",
       "      <th>Bachelors</th>\n",
       "      <th>Masters</th>\n",
       "      <th>Ph.D.</th>\n",
       "    </tr>\n",
       "  </thead>\n",
       "  <tbody>\n",
       "    <tr>\n",
       "      <th>Female</th>\n",
       "      <td>50</td>\n",
       "      <td>49</td>\n",
       "      <td>50</td>\n",
       "      <td>49</td>\n",
       "    </tr>\n",
       "    <tr>\n",
       "      <th>Male</th>\n",
       "      <td>49</td>\n",
       "      <td>48</td>\n",
       "      <td>48</td>\n",
       "      <td>48</td>\n",
       "    </tr>\n",
       "  </tbody>\n",
       "</table>\n",
       "</div>"
      ],
      "text/plain": [
       "        H_School  Bachelors  Masters  Ph.D.\n",
       "Female        50         49       50     49\n",
       "Male          49         48       48     48"
      ]
     },
     "execution_count": 4,
     "metadata": {},
     "output_type": "execute_result"
    }
   ],
   "source": [
    "table_E = table_O.copy()\n",
    "total = (table_O['H_School']+table_O['Bachelors']+table_O['Masters']+table_O['Ph.D.']).sum()\n",
    "column =table_O.columns.values\n",
    "row =table_O.index\n",
    "for i in column:\n",
    "    for j in row:\n",
    "        table_E[i][j]=(table_O[i].sum()*table_O.loc[j].sum())/total\n",
    "table_E"
   ]
  },
  {
   "cell_type": "code",
   "execution_count": 5,
   "id": "10303b8a",
   "metadata": {},
   "outputs": [
    {
     "data": {
      "text/plain": [
       "8.331054421768707"
      ]
     },
     "execution_count": 5,
     "metadata": {},
     "output_type": "execute_result"
    }
   ],
   "source": [
    "x_f=[]\n",
    "for i in column:\n",
    "    for j in row:\n",
    "        x=(np.square(table_O[i][j]-table_E[i][j])/table_E[i][j])\n",
    "        x_f.append(x)\n",
    "x_2_test=np.array(x_f).sum()\n",
    "x_2_test"
   ]
  },
  {
   "cell_type": "raw",
   "id": "4cf33fd7",
   "metadata": {},
   "source": [
    "Degree of freedom df = (4-1)*(2-1)=3 and p< 0.05 -> X_2(0.05)= 7.815\n",
    "As X_2(0.05)<X_2_test there is enough evidence to reject H0. Then, there is a relationship between the\n",
    "gender of an individual and the level of education that they have obtained"
   ]
  },
  {
   "cell_type": "raw",
   "id": "66df5443",
   "metadata": {},
   "source": [
    "Problem Statement 2:\n",
    "Using the following data, perform a oneway analysis of variance using α=0.05. \n",
    "Write up the results in APA format.\n",
    "\n",
    "Solution:\n",
    "H0: all groups μ are equal \n",
    "H1: μ are different"
   ]
  },
  {
   "attachments": {
    "image.png": {
     "image/png": "[encoded data removed]"
    }
   },
   "cell_type": "markdown",
   "id": "1468b72a",
   "metadata": {},
   "source": [
    "![image.png](attachment:image.png)"
   ]
  },
  {
   "cell_type": "code",
   "execution_count": 85,
   "id": "c6356521",
   "metadata": {},
   "outputs": [
    {
     "data": {
      "text/html": [
       "<div>\n",
       "<style scoped>\n",
       "    .dataframe tbody tr th:only-of-type {\n",
       "        vertical-align: middle;\n",
       "    }\n",
       "\n",
       "    .dataframe tbody tr th {\n",
       "        vertical-align: top;\n",
       "    }\n",
       "\n",
       "    .dataframe thead th {\n",
       "        text-align: right;\n",
       "    }\n",
       "</style>\n",
       "<table border=\"1\" class=\"dataframe\">\n",
       "  <thead>\n",
       "    <tr style=\"text-align: right;\">\n",
       "      <th></th>\n",
       "      <th>Group1</th>\n",
       "      <th>Group2</th>\n",
       "      <th>Group3</th>\n",
       "    </tr>\n",
       "  </thead>\n",
       "  <tbody>\n",
       "    <tr>\n",
       "      <th>0</th>\n",
       "      <td>51</td>\n",
       "      <td>23</td>\n",
       "      <td>56</td>\n",
       "    </tr>\n",
       "    <tr>\n",
       "      <th>1</th>\n",
       "      <td>45</td>\n",
       "      <td>43</td>\n",
       "      <td>76</td>\n",
       "    </tr>\n",
       "    <tr>\n",
       "      <th>2</th>\n",
       "      <td>33</td>\n",
       "      <td>23</td>\n",
       "      <td>74</td>\n",
       "    </tr>\n",
       "    <tr>\n",
       "      <th>3</th>\n",
       "      <td>45</td>\n",
       "      <td>43</td>\n",
       "      <td>87</td>\n",
       "    </tr>\n",
       "    <tr>\n",
       "      <th>4</th>\n",
       "      <td>67</td>\n",
       "      <td>45</td>\n",
       "      <td>56</td>\n",
       "    </tr>\n",
       "  </tbody>\n",
       "</table>\n",
       "</div>"
      ],
      "text/plain": [
       "   Group1  Group2  Group3\n",
       "0      51      23      56\n",
       "1      45      43      76\n",
       "2      33      23      74\n",
       "3      45      43      87\n",
       "4      67      45      56"
      ]
     },
     "execution_count": 85,
     "metadata": {},
     "output_type": "execute_result"
    }
   ],
   "source": [
    "# following the steps in https://people.richland.edu/james/lecture/m170/ch13-1wy.html\n",
    "\n",
    "dic={'Group1':[51, 45, 33, 45, 67], 'Group2':[23, 43, 23, 43, 45], 'Group3':[56, 76, 74, 87, 56]}\n",
    "table = pd.DataFrame(dic)\n",
    "table"
   ]
  },
  {
   "cell_type": "code",
   "execution_count": 86,
   "id": "ac386865",
   "metadata": {},
   "outputs": [
    {
     "name": "stdout",
     "output_type": "stream",
     "text": [
      "GM1 =  51.13333333333333\n"
     ]
    },
    {
     "data": {
      "text/html": [
       "<div>\n",
       "<style scoped>\n",
       "    .dataframe tbody tr th:only-of-type {\n",
       "        vertical-align: middle;\n",
       "    }\n",
       "\n",
       "    .dataframe tbody tr th {\n",
       "        vertical-align: top;\n",
       "    }\n",
       "\n",
       "    .dataframe thead th {\n",
       "        text-align: right;\n",
       "    }\n",
       "</style>\n",
       "<table border=\"1\" class=\"dataframe\">\n",
       "  <thead>\n",
       "    <tr style=\"text-align: right;\">\n",
       "      <th></th>\n",
       "      <th>Group1</th>\n",
       "      <th>Group2</th>\n",
       "      <th>Group3</th>\n",
       "    </tr>\n",
       "  </thead>\n",
       "  <tbody>\n",
       "    <tr>\n",
       "      <th>0</th>\n",
       "      <td>51.0</td>\n",
       "      <td>23.0</td>\n",
       "      <td>56.0</td>\n",
       "    </tr>\n",
       "    <tr>\n",
       "      <th>1</th>\n",
       "      <td>45.0</td>\n",
       "      <td>43.0</td>\n",
       "      <td>76.0</td>\n",
       "    </tr>\n",
       "    <tr>\n",
       "      <th>2</th>\n",
       "      <td>33.0</td>\n",
       "      <td>23.0</td>\n",
       "      <td>74.0</td>\n",
       "    </tr>\n",
       "    <tr>\n",
       "      <th>3</th>\n",
       "      <td>45.0</td>\n",
       "      <td>43.0</td>\n",
       "      <td>87.0</td>\n",
       "    </tr>\n",
       "    <tr>\n",
       "      <th>4</th>\n",
       "      <td>67.0</td>\n",
       "      <td>45.0</td>\n",
       "      <td>56.0</td>\n",
       "    </tr>\n",
       "    <tr>\n",
       "      <th>Mean</th>\n",
       "      <td>48.2</td>\n",
       "      <td>35.4</td>\n",
       "      <td>69.8</td>\n",
       "    </tr>\n",
       "  </tbody>\n",
       "</table>\n",
       "</div>"
      ],
      "text/plain": [
       "      Group1  Group2  Group3\n",
       "0       51.0    23.0    56.0\n",
       "1       45.0    43.0    76.0\n",
       "2       33.0    23.0    74.0\n",
       "3       45.0    43.0    87.0\n",
       "4       67.0    45.0    56.0\n",
       "Mean    48.2    35.4    69.8"
      ]
     },
     "execution_count": 86,
     "metadata": {},
     "output_type": "execute_result"
    }
   ],
   "source": [
    "# Calculation of Grand mean\n",
    "\n",
    "# Sumation of all samples/total numer of samples (N)\n",
    "GM1 = (table['Group1'].sum()+table['Group2'].sum()+table['Group3'].sum())/15\n",
    "print('GM1 = ', GM1)\n",
    "table.loc[len(table.index)]=np.mean(table)\n",
    "table = table.rename(index={5:'Mean'})\n",
    "table"
   ]
  },
  {
   "cell_type": "code",
   "execution_count": 87,
   "id": "ccc71f98",
   "metadata": {},
   "outputs": [
    {
     "data": {
      "text/plain": [
       "3022.933333333333"
      ]
     },
     "execution_count": 87,
     "metadata": {},
     "output_type": "execute_result"
    }
   ],
   "source": [
    "# Between Group Variation\n",
    "SS_B = 5*np.square(48.2-GM1)+5*np.square(35.4-GM1)+5*np.square(69.8-GM1)\n",
    "SS_B"
   ]
  },
  {
   "cell_type": "code",
   "execution_count": 88,
   "id": "d328ddcb",
   "metadata": {},
   "outputs": [
    {
     "data": {
      "text/plain": [
       "1511.4666666666665"
      ]
     },
     "execution_count": 88,
     "metadata": {},
     "output_type": "execute_result"
    }
   ],
   "source": [
    "# The variance due to the interaction between the samples MS_B = SS_B/df_B, where df_B is degrees of freedom \n",
    "# df_B = (k - 1), where k is the number of samples\n",
    "df_B = 3-1\n",
    "MS_B = SS_B/df_B\n",
    "MS_B"
   ]
  },
  {
   "cell_type": "code",
   "execution_count": 89,
   "id": "b76428af",
   "metadata": {},
   "outputs": [
    {
     "data": {
      "text/html": [
       "<div>\n",
       "<style scoped>\n",
       "    .dataframe tbody tr th:only-of-type {\n",
       "        vertical-align: middle;\n",
       "    }\n",
       "\n",
       "    .dataframe tbody tr th {\n",
       "        vertical-align: top;\n",
       "    }\n",
       "\n",
       "    .dataframe thead th {\n",
       "        text-align: right;\n",
       "    }\n",
       "</style>\n",
       "<table border=\"1\" class=\"dataframe\">\n",
       "  <thead>\n",
       "    <tr style=\"text-align: right;\">\n",
       "      <th></th>\n",
       "      <th>Group1</th>\n",
       "      <th>Group2</th>\n",
       "      <th>Group3</th>\n",
       "      <th>(x1- mean1)^2</th>\n",
       "      <th>(x2- mean2)^2</th>\n",
       "      <th>(x3- mean3)^2</th>\n",
       "    </tr>\n",
       "  </thead>\n",
       "  <tbody>\n",
       "    <tr>\n",
       "      <th>0</th>\n",
       "      <td>51.0</td>\n",
       "      <td>23.0</td>\n",
       "      <td>56.0</td>\n",
       "      <td>7.84</td>\n",
       "      <td>153.76</td>\n",
       "      <td>190.44</td>\n",
       "    </tr>\n",
       "    <tr>\n",
       "      <th>1</th>\n",
       "      <td>45.0</td>\n",
       "      <td>43.0</td>\n",
       "      <td>76.0</td>\n",
       "      <td>10.24</td>\n",
       "      <td>57.76</td>\n",
       "      <td>38.44</td>\n",
       "    </tr>\n",
       "    <tr>\n",
       "      <th>2</th>\n",
       "      <td>33.0</td>\n",
       "      <td>23.0</td>\n",
       "      <td>74.0</td>\n",
       "      <td>231.04</td>\n",
       "      <td>153.76</td>\n",
       "      <td>17.64</td>\n",
       "    </tr>\n",
       "    <tr>\n",
       "      <th>3</th>\n",
       "      <td>45.0</td>\n",
       "      <td>43.0</td>\n",
       "      <td>87.0</td>\n",
       "      <td>10.24</td>\n",
       "      <td>57.76</td>\n",
       "      <td>295.84</td>\n",
       "    </tr>\n",
       "    <tr>\n",
       "      <th>4</th>\n",
       "      <td>67.0</td>\n",
       "      <td>45.0</td>\n",
       "      <td>56.0</td>\n",
       "      <td>353.44</td>\n",
       "      <td>92.16</td>\n",
       "      <td>190.44</td>\n",
       "    </tr>\n",
       "    <tr>\n",
       "      <th>Mean</th>\n",
       "      <td>48.2</td>\n",
       "      <td>35.4</td>\n",
       "      <td>69.8</td>\n",
       "      <td>NaN</td>\n",
       "      <td>NaN</td>\n",
       "      <td>NaN</td>\n",
       "    </tr>\n",
       "  </tbody>\n",
       "</table>\n",
       "</div>"
      ],
      "text/plain": [
       "      Group1  Group2  Group3  (x1- mean1)^2  (x2- mean2)^2  (x3- mean3)^2\n",
       "0       51.0    23.0    56.0           7.84         153.76         190.44\n",
       "1       45.0    43.0    76.0          10.24          57.76          38.44\n",
       "2       33.0    23.0    74.0         231.04         153.76          17.64\n",
       "3       45.0    43.0    87.0          10.24          57.76         295.84\n",
       "4       67.0    45.0    56.0         353.44          92.16         190.44\n",
       "Mean    48.2    35.4    69.8            NaN            NaN            NaN"
      ]
     },
     "execution_count": 89,
     "metadata": {},
     "output_type": "execute_result"
    }
   ],
   "source": [
    "# The variation due to differences within individual samples is SS_W\n",
    "# The degree of freedom here is df_W = N - k, where N\n",
    "# First we have to get squares of differences within groups.\n",
    "for i in range(0,len(table.columns)):\n",
    "    table['(x'+ str(i+1)+'- mean'+str(i+1)+')^2']= np.square(table.iloc[:-1, i]-table.iloc[-1][i])\n",
    "table"
   ]
  },
  {
   "cell_type": "code",
   "execution_count": 90,
   "id": "44d36ea9",
   "metadata": {},
   "outputs": [
    {
     "data": {
      "text/html": [
       "<div>\n",
       "<style scoped>\n",
       "    .dataframe tbody tr th:only-of-type {\n",
       "        vertical-align: middle;\n",
       "    }\n",
       "\n",
       "    .dataframe tbody tr th {\n",
       "        vertical-align: top;\n",
       "    }\n",
       "\n",
       "    .dataframe thead th {\n",
       "        text-align: right;\n",
       "    }\n",
       "</style>\n",
       "<table border=\"1\" class=\"dataframe\">\n",
       "  <thead>\n",
       "    <tr style=\"text-align: right;\">\n",
       "      <th></th>\n",
       "      <th>Group1</th>\n",
       "      <th>Group2</th>\n",
       "      <th>Group3</th>\n",
       "      <th>(x1- mean1)^2</th>\n",
       "      <th>(x2- mean2)^2</th>\n",
       "      <th>(x3- mean3)^2</th>\n",
       "    </tr>\n",
       "  </thead>\n",
       "  <tbody>\n",
       "    <tr>\n",
       "      <th>0</th>\n",
       "      <td>51.0</td>\n",
       "      <td>23.0</td>\n",
       "      <td>56.0</td>\n",
       "      <td>7.84</td>\n",
       "      <td>153.76</td>\n",
       "      <td>190.44</td>\n",
       "    </tr>\n",
       "    <tr>\n",
       "      <th>1</th>\n",
       "      <td>45.0</td>\n",
       "      <td>43.0</td>\n",
       "      <td>76.0</td>\n",
       "      <td>10.24</td>\n",
       "      <td>57.76</td>\n",
       "      <td>38.44</td>\n",
       "    </tr>\n",
       "    <tr>\n",
       "      <th>2</th>\n",
       "      <td>33.0</td>\n",
       "      <td>23.0</td>\n",
       "      <td>74.0</td>\n",
       "      <td>231.04</td>\n",
       "      <td>153.76</td>\n",
       "      <td>17.64</td>\n",
       "    </tr>\n",
       "    <tr>\n",
       "      <th>3</th>\n",
       "      <td>45.0</td>\n",
       "      <td>43.0</td>\n",
       "      <td>87.0</td>\n",
       "      <td>10.24</td>\n",
       "      <td>57.76</td>\n",
       "      <td>295.84</td>\n",
       "    </tr>\n",
       "    <tr>\n",
       "      <th>4</th>\n",
       "      <td>67.0</td>\n",
       "      <td>45.0</td>\n",
       "      <td>56.0</td>\n",
       "      <td>353.44</td>\n",
       "      <td>92.16</td>\n",
       "      <td>190.44</td>\n",
       "    </tr>\n",
       "    <tr>\n",
       "      <th>Mean</th>\n",
       "      <td>48.2</td>\n",
       "      <td>35.4</td>\n",
       "      <td>69.8</td>\n",
       "      <td>NaN</td>\n",
       "      <td>NaN</td>\n",
       "      <td>NaN</td>\n",
       "    </tr>\n",
       "    <tr>\n",
       "      <th>Sum_distance</th>\n",
       "      <td>NaN</td>\n",
       "      <td>NaN</td>\n",
       "      <td>NaN</td>\n",
       "      <td>612.80</td>\n",
       "      <td>515.20</td>\n",
       "      <td>732.80</td>\n",
       "    </tr>\n",
       "  </tbody>\n",
       "</table>\n",
       "</div>"
      ],
      "text/plain": [
       "              Group1  Group2  Group3  (x1- mean1)^2  (x2- mean2)^2  \\\n",
       "0               51.0    23.0    56.0           7.84         153.76   \n",
       "1               45.0    43.0    76.0          10.24          57.76   \n",
       "2               33.0    23.0    74.0         231.04         153.76   \n",
       "3               45.0    43.0    87.0          10.24          57.76   \n",
       "4               67.0    45.0    56.0         353.44          92.16   \n",
       "Mean            48.2    35.4    69.8            NaN            NaN   \n",
       "Sum_distance     NaN     NaN     NaN         612.80         515.20   \n",
       "\n",
       "              (x3- mean3)^2  \n",
       "0                    190.44  \n",
       "1                     38.44  \n",
       "2                     17.64  \n",
       "3                    295.84  \n",
       "4                    190.44  \n",
       "Mean                    NaN  \n",
       "Sum_distance         732.80  "
      ]
     },
     "execution_count": 90,
     "metadata": {},
     "output_type": "execute_result"
    }
   ],
   "source": [
    "table.loc[len(table.index)]=table.iloc[:-1,3:].sum()\n",
    "table = table.rename(index={6:'Sum_distance'})\n",
    "table"
   ]
  },
  {
   "cell_type": "code",
   "execution_count": 91,
   "id": "71661f3c",
   "metadata": {},
   "outputs": [
    {
     "data": {
      "text/plain": [
       "155.06666666666666"
      ]
     },
     "execution_count": 91,
     "metadata": {},
     "output_type": "execute_result"
    }
   ],
   "source": [
    "SS_W = table.iloc[-1][3:].sum()\n",
    "# The variance due to the differences within individual samples is MS_W = SS_W/df_W \n",
    "df_W = 15-3\n",
    "MS_W = (SS_W)/df_W\n",
    "MS_W"
   ]
  },
  {
   "cell_type": "code",
   "execution_count": 92,
   "id": "841b2dbe",
   "metadata": {},
   "outputs": [
    {
     "data": {
      "text/plain": [
       "9.75"
      ]
     },
     "execution_count": 92,
     "metadata": {},
     "output_type": "execute_result"
    }
   ],
   "source": [
    "# F_critical(2.12) = 3.8853\n",
    "F_test = (MS_B/MS_W).round(2)\n",
    "F_test"
   ]
  },
  {
   "cell_type": "code",
   "execution_count": 103,
   "id": "bc5a44c6",
   "metadata": {},
   "outputs": [
    {
     "data": {
      "text/html": [
       "<div>\n",
       "<style scoped>\n",
       "    .dataframe tbody tr th:only-of-type {\n",
       "        vertical-align: middle;\n",
       "    }\n",
       "\n",
       "    .dataframe tbody tr th {\n",
       "        vertical-align: top;\n",
       "    }\n",
       "\n",
       "    .dataframe thead th {\n",
       "        text-align: right;\n",
       "    }\n",
       "</style>\n",
       "<table border=\"1\" class=\"dataframe\">\n",
       "  <thead>\n",
       "    <tr style=\"text-align: right;\">\n",
       "      <th></th>\n",
       "      <th>SS</th>\n",
       "      <th>df</th>\n",
       "      <th>MS</th>\n",
       "      <th>F</th>\n",
       "    </tr>\n",
       "  </thead>\n",
       "  <tbody>\n",
       "    <tr>\n",
       "      <th>Samples</th>\n",
       "      <td>3022.933333</td>\n",
       "      <td>2</td>\n",
       "      <td>1511.466667</td>\n",
       "      <td>9.75</td>\n",
       "    </tr>\n",
       "    <tr>\n",
       "      <th>Error</th>\n",
       "      <td>1860.800000</td>\n",
       "      <td>12</td>\n",
       "      <td>155.066667</td>\n",
       "      <td>NA</td>\n",
       "    </tr>\n",
       "    <tr>\n",
       "      <th>Total</th>\n",
       "      <td>4883.733333</td>\n",
       "      <td>NA</td>\n",
       "      <td>NA</td>\n",
       "      <td>NA</td>\n",
       "    </tr>\n",
       "  </tbody>\n",
       "</table>\n",
       "</div>"
      ],
      "text/plain": [
       "                  SS  df           MS     F\n",
       "Samples  3022.933333   2  1511.466667  9.75\n",
       "Error    1860.800000  12   155.066667    NA\n",
       "Total    4883.733333  NA           NA    NA"
      ]
     },
     "execution_count": 103,
     "metadata": {},
     "output_type": "execute_result"
    }
   ],
   "source": [
    "# ANOVA Table\n",
    "dic1 = {'SS': [SS_B, SS_W, (SS_B+SS_W)], \n",
    "        'df': [df_B, df_W, 'NA'],\n",
    "        'MS': [MS_B, MS_W, 'NA'],\n",
    "        'F': [F_test, 'NA', 'NA']\n",
    "      }\n",
    "index = ['Samples', 'Error', 'Total'] \n",
    "ANOVA_table = pd.DataFrame(dic1, index=index)\n",
    "ANOVA_table"
   ]
  },
  {
   "cell_type": "code",
   "execution_count": 105,
   "id": "078ffb70",
   "metadata": {},
   "outputs": [
    {
     "data": {
      "text/plain": [
       "0.61898001528885"
      ]
     },
     "execution_count": 105,
     "metadata": {},
     "output_type": "execute_result"
    }
   ],
   "source": [
    "# Effect size\n",
    "n_2= SS_B/(SS_B+SS_W)\n",
    "n_2"
   ]
  },
  {
   "cell_type": "raw",
   "id": "d95fa49e",
   "metadata": {},
   "source": [
    "Conclusion:\n",
    "F_critical(2,12) < F_test with 5% of significance level. This means that there is enough evidence to reject H0. So,at least one mean is different.\n",
    "\n",
    "APA writeup\n",
    "F(2, 12)=9.75, p <0.05, n_2=0.62."
   ]
  },
  {
   "cell_type": "raw",
   "id": "e69a481f",
   "metadata": {},
   "source": [
    "Problem Statement 3:\n",
    "Calculate F Test for given 10, 20, 30, 40, 50 and 5,10,15, 20, 25.\n",
    "For 10, 20, 30, 40, 50:\n",
    "\n",
    "Solution:\n",
    "H0: all groups μ are equal \n",
    "H1: μ are different"
   ]
  },
  {
   "cell_type": "code",
   "execution_count": 106,
   "id": "c7281985",
   "metadata": {},
   "outputs": [
    {
     "data": {
      "text/html": [
       "<div>\n",
       "<style scoped>\n",
       "    .dataframe tbody tr th:only-of-type {\n",
       "        vertical-align: middle;\n",
       "    }\n",
       "\n",
       "    .dataframe tbody tr th {\n",
       "        vertical-align: top;\n",
       "    }\n",
       "\n",
       "    .dataframe thead th {\n",
       "        text-align: right;\n",
       "    }\n",
       "</style>\n",
       "<table border=\"1\" class=\"dataframe\">\n",
       "  <thead>\n",
       "    <tr style=\"text-align: right;\">\n",
       "      <th></th>\n",
       "      <th>A</th>\n",
       "      <th>B</th>\n",
       "    </tr>\n",
       "  </thead>\n",
       "  <tbody>\n",
       "    <tr>\n",
       "      <th>0</th>\n",
       "      <td>10</td>\n",
       "      <td>5</td>\n",
       "    </tr>\n",
       "    <tr>\n",
       "      <th>1</th>\n",
       "      <td>20</td>\n",
       "      <td>10</td>\n",
       "    </tr>\n",
       "    <tr>\n",
       "      <th>2</th>\n",
       "      <td>30</td>\n",
       "      <td>15</td>\n",
       "    </tr>\n",
       "    <tr>\n",
       "      <th>3</th>\n",
       "      <td>40</td>\n",
       "      <td>20</td>\n",
       "    </tr>\n",
       "    <tr>\n",
       "      <th>4</th>\n",
       "      <td>50</td>\n",
       "      <td>25</td>\n",
       "    </tr>\n",
       "  </tbody>\n",
       "</table>\n",
       "</div>"
      ],
      "text/plain": [
       "    A   B\n",
       "0  10   5\n",
       "1  20  10\n",
       "2  30  15\n",
       "3  40  20\n",
       "4  50  25"
      ]
     },
     "execution_count": 106,
     "metadata": {},
     "output_type": "execute_result"
    }
   ],
   "source": [
    "dic={'A':[10, 20, 30, 40, 50], 'B':[5, 10, 15, 20, 25]}\n",
    "table = pd.DataFrame(dic)\n",
    "table"
   ]
  },
  {
   "cell_type": "code",
   "execution_count": 107,
   "id": "04328120",
   "metadata": {},
   "outputs": [
    {
     "name": "stdout",
     "output_type": "stream",
     "text": [
      "GM =  22.5\n"
     ]
    },
    {
     "data": {
      "text/html": [
       "<div>\n",
       "<style scoped>\n",
       "    .dataframe tbody tr th:only-of-type {\n",
       "        vertical-align: middle;\n",
       "    }\n",
       "\n",
       "    .dataframe tbody tr th {\n",
       "        vertical-align: top;\n",
       "    }\n",
       "\n",
       "    .dataframe thead th {\n",
       "        text-align: right;\n",
       "    }\n",
       "</style>\n",
       "<table border=\"1\" class=\"dataframe\">\n",
       "  <thead>\n",
       "    <tr style=\"text-align: right;\">\n",
       "      <th></th>\n",
       "      <th>A</th>\n",
       "      <th>B</th>\n",
       "    </tr>\n",
       "  </thead>\n",
       "  <tbody>\n",
       "    <tr>\n",
       "      <th>0</th>\n",
       "      <td>10.0</td>\n",
       "      <td>5.0</td>\n",
       "    </tr>\n",
       "    <tr>\n",
       "      <th>1</th>\n",
       "      <td>20.0</td>\n",
       "      <td>10.0</td>\n",
       "    </tr>\n",
       "    <tr>\n",
       "      <th>2</th>\n",
       "      <td>30.0</td>\n",
       "      <td>15.0</td>\n",
       "    </tr>\n",
       "    <tr>\n",
       "      <th>3</th>\n",
       "      <td>40.0</td>\n",
       "      <td>20.0</td>\n",
       "    </tr>\n",
       "    <tr>\n",
       "      <th>4</th>\n",
       "      <td>50.0</td>\n",
       "      <td>25.0</td>\n",
       "    </tr>\n",
       "    <tr>\n",
       "      <th>Mean</th>\n",
       "      <td>30.0</td>\n",
       "      <td>15.0</td>\n",
       "    </tr>\n",
       "  </tbody>\n",
       "</table>\n",
       "</div>"
      ],
      "text/plain": [
       "         A     B\n",
       "0     10.0   5.0\n",
       "1     20.0  10.0\n",
       "2     30.0  15.0\n",
       "3     40.0  20.0\n",
       "4     50.0  25.0\n",
       "Mean  30.0  15.0"
      ]
     },
     "execution_count": 107,
     "metadata": {},
     "output_type": "execute_result"
    }
   ],
   "source": [
    "# Calculation of Grand mean\n",
    "\n",
    "GM = (table['A'].sum()+table['B'].sum())/10\n",
    "print('GM = ', GM)\n",
    "table.loc[len(table.index)]=np.mean(table)\n",
    "table = table.rename(index={5:'Mean'})\n",
    "table"
   ]
  },
  {
   "cell_type": "code",
   "execution_count": 108,
   "id": "d8a9c715",
   "metadata": {},
   "outputs": [
    {
     "data": {
      "text/plain": [
       "562.5"
      ]
     },
     "execution_count": 108,
     "metadata": {},
     "output_type": "execute_result"
    }
   ],
   "source": [
    "# Between Group Variation\n",
    "SS_B = 5*np.square(30.0-GM)+5*np.square(15.0-GM)\n",
    "SS_B"
   ]
  },
  {
   "cell_type": "code",
   "execution_count": 109,
   "id": "ad990811",
   "metadata": {},
   "outputs": [
    {
     "data": {
      "text/plain": [
       "562.5"
      ]
     },
     "execution_count": 109,
     "metadata": {},
     "output_type": "execute_result"
    }
   ],
   "source": [
    "# The variance due to the interaction between the samples MS_B = SS_B/df_B, where df_B is degrees of freedom \n",
    "# df_B = (k - 1), where k is the number of samples\n",
    "df_B = 2-1\n",
    "MS_B = SS_B/df_B\n",
    "MS_B"
   ]
  },
  {
   "cell_type": "code",
   "execution_count": 110,
   "id": "9b14b004",
   "metadata": {},
   "outputs": [
    {
     "data": {
      "text/html": [
       "<div>\n",
       "<style scoped>\n",
       "    .dataframe tbody tr th:only-of-type {\n",
       "        vertical-align: middle;\n",
       "    }\n",
       "\n",
       "    .dataframe tbody tr th {\n",
       "        vertical-align: top;\n",
       "    }\n",
       "\n",
       "    .dataframe thead th {\n",
       "        text-align: right;\n",
       "    }\n",
       "</style>\n",
       "<table border=\"1\" class=\"dataframe\">\n",
       "  <thead>\n",
       "    <tr style=\"text-align: right;\">\n",
       "      <th></th>\n",
       "      <th>A</th>\n",
       "      <th>B</th>\n",
       "      <th>(x1- mean1)^2</th>\n",
       "      <th>(x2- mean2)^2</th>\n",
       "    </tr>\n",
       "  </thead>\n",
       "  <tbody>\n",
       "    <tr>\n",
       "      <th>0</th>\n",
       "      <td>10.0</td>\n",
       "      <td>5.0</td>\n",
       "      <td>400.0</td>\n",
       "      <td>100.0</td>\n",
       "    </tr>\n",
       "    <tr>\n",
       "      <th>1</th>\n",
       "      <td>20.0</td>\n",
       "      <td>10.0</td>\n",
       "      <td>100.0</td>\n",
       "      <td>25.0</td>\n",
       "    </tr>\n",
       "    <tr>\n",
       "      <th>2</th>\n",
       "      <td>30.0</td>\n",
       "      <td>15.0</td>\n",
       "      <td>0.0</td>\n",
       "      <td>0.0</td>\n",
       "    </tr>\n",
       "    <tr>\n",
       "      <th>3</th>\n",
       "      <td>40.0</td>\n",
       "      <td>20.0</td>\n",
       "      <td>100.0</td>\n",
       "      <td>25.0</td>\n",
       "    </tr>\n",
       "    <tr>\n",
       "      <th>4</th>\n",
       "      <td>50.0</td>\n",
       "      <td>25.0</td>\n",
       "      <td>400.0</td>\n",
       "      <td>100.0</td>\n",
       "    </tr>\n",
       "    <tr>\n",
       "      <th>Mean</th>\n",
       "      <td>30.0</td>\n",
       "      <td>15.0</td>\n",
       "      <td>NaN</td>\n",
       "      <td>NaN</td>\n",
       "    </tr>\n",
       "  </tbody>\n",
       "</table>\n",
       "</div>"
      ],
      "text/plain": [
       "         A     B  (x1- mean1)^2  (x2- mean2)^2\n",
       "0     10.0   5.0          400.0          100.0\n",
       "1     20.0  10.0          100.0           25.0\n",
       "2     30.0  15.0            0.0            0.0\n",
       "3     40.0  20.0          100.0           25.0\n",
       "4     50.0  25.0          400.0          100.0\n",
       "Mean  30.0  15.0            NaN            NaN"
      ]
     },
     "execution_count": 110,
     "metadata": {},
     "output_type": "execute_result"
    }
   ],
   "source": [
    "# The variation due to differences within individual samples is SS_W\n",
    "# The degree of freedom here is df_W = N - k, where N\n",
    "# First we have to get squares of differences within groups.\n",
    "for i in range(0,len(table.columns)):\n",
    "    table['(x'+ str(i+1)+'- mean'+str(i+1)+')^2']= np.square(table.iloc[:-1, i]-table.iloc[-1][i])\n",
    "table"
   ]
  },
  {
   "cell_type": "code",
   "execution_count": 111,
   "id": "021e94fb",
   "metadata": {},
   "outputs": [
    {
     "data": {
      "text/html": [
       "<div>\n",
       "<style scoped>\n",
       "    .dataframe tbody tr th:only-of-type {\n",
       "        vertical-align: middle;\n",
       "    }\n",
       "\n",
       "    .dataframe tbody tr th {\n",
       "        vertical-align: top;\n",
       "    }\n",
       "\n",
       "    .dataframe thead th {\n",
       "        text-align: right;\n",
       "    }\n",
       "</style>\n",
       "<table border=\"1\" class=\"dataframe\">\n",
       "  <thead>\n",
       "    <tr style=\"text-align: right;\">\n",
       "      <th></th>\n",
       "      <th>A</th>\n",
       "      <th>B</th>\n",
       "      <th>(x1- mean1)^2</th>\n",
       "      <th>(x2- mean2)^2</th>\n",
       "    </tr>\n",
       "  </thead>\n",
       "  <tbody>\n",
       "    <tr>\n",
       "      <th>0</th>\n",
       "      <td>10.0</td>\n",
       "      <td>5.0</td>\n",
       "      <td>400.0</td>\n",
       "      <td>100.0</td>\n",
       "    </tr>\n",
       "    <tr>\n",
       "      <th>1</th>\n",
       "      <td>20.0</td>\n",
       "      <td>10.0</td>\n",
       "      <td>100.0</td>\n",
       "      <td>25.0</td>\n",
       "    </tr>\n",
       "    <tr>\n",
       "      <th>2</th>\n",
       "      <td>30.0</td>\n",
       "      <td>15.0</td>\n",
       "      <td>0.0</td>\n",
       "      <td>0.0</td>\n",
       "    </tr>\n",
       "    <tr>\n",
       "      <th>3</th>\n",
       "      <td>40.0</td>\n",
       "      <td>20.0</td>\n",
       "      <td>100.0</td>\n",
       "      <td>25.0</td>\n",
       "    </tr>\n",
       "    <tr>\n",
       "      <th>4</th>\n",
       "      <td>50.0</td>\n",
       "      <td>25.0</td>\n",
       "      <td>400.0</td>\n",
       "      <td>100.0</td>\n",
       "    </tr>\n",
       "    <tr>\n",
       "      <th>Mean</th>\n",
       "      <td>30.0</td>\n",
       "      <td>15.0</td>\n",
       "      <td>NaN</td>\n",
       "      <td>NaN</td>\n",
       "    </tr>\n",
       "    <tr>\n",
       "      <th>Sum_distance</th>\n",
       "      <td>NaN</td>\n",
       "      <td>NaN</td>\n",
       "      <td>1000.0</td>\n",
       "      <td>250.0</td>\n",
       "    </tr>\n",
       "  </tbody>\n",
       "</table>\n",
       "</div>"
      ],
      "text/plain": [
       "                 A     B  (x1- mean1)^2  (x2- mean2)^2\n",
       "0             10.0   5.0          400.0          100.0\n",
       "1             20.0  10.0          100.0           25.0\n",
       "2             30.0  15.0            0.0            0.0\n",
       "3             40.0  20.0          100.0           25.0\n",
       "4             50.0  25.0          400.0          100.0\n",
       "Mean          30.0  15.0            NaN            NaN\n",
       "Sum_distance   NaN   NaN         1000.0          250.0"
      ]
     },
     "execution_count": 111,
     "metadata": {},
     "output_type": "execute_result"
    }
   ],
   "source": [
    "table.loc[len(table.index)]=table.iloc[:-1,2:].sum()\n",
    "table = table.rename(index={6:'Sum_distance'})\n",
    "table"
   ]
  },
  {
   "cell_type": "code",
   "execution_count": 112,
   "id": "f5c455cb",
   "metadata": {},
   "outputs": [
    {
     "data": {
      "text/plain": [
       "156.25"
      ]
     },
     "execution_count": 112,
     "metadata": {},
     "output_type": "execute_result"
    }
   ],
   "source": [
    "SS_W = table.iloc[-1][2:].sum()\n",
    "# The variance due to the differences within individual samples is MS_W = SS_W/df_W \n",
    "df_W = 10-2\n",
    "MS_W = (SS_W)/df_W\n",
    "MS_W"
   ]
  },
  {
   "cell_type": "code",
   "execution_count": 113,
   "id": "b3fea7a5",
   "metadata": {},
   "outputs": [
    {
     "data": {
      "text/plain": [
       "3.6"
      ]
     },
     "execution_count": 113,
     "metadata": {},
     "output_type": "execute_result"
    }
   ],
   "source": [
    "# F_critical(1,8) = 5.3177 with 5% of significance level\n",
    "F_test = (MS_B/MS_W).round(2)\n",
    "F_test"
   ]
  },
  {
   "cell_type": "code",
   "execution_count": 114,
   "id": "3e1d8049",
   "metadata": {},
   "outputs": [
    {
     "data": {
      "text/html": [
       "<div>\n",
       "<style scoped>\n",
       "    .dataframe tbody tr th:only-of-type {\n",
       "        vertical-align: middle;\n",
       "    }\n",
       "\n",
       "    .dataframe tbody tr th {\n",
       "        vertical-align: top;\n",
       "    }\n",
       "\n",
       "    .dataframe thead th {\n",
       "        text-align: right;\n",
       "    }\n",
       "</style>\n",
       "<table border=\"1\" class=\"dataframe\">\n",
       "  <thead>\n",
       "    <tr style=\"text-align: right;\">\n",
       "      <th></th>\n",
       "      <th>SS</th>\n",
       "      <th>df</th>\n",
       "      <th>MS</th>\n",
       "      <th>F</th>\n",
       "    </tr>\n",
       "  </thead>\n",
       "  <tbody>\n",
       "    <tr>\n",
       "      <th>Samples</th>\n",
       "      <td>562.5</td>\n",
       "      <td>1</td>\n",
       "      <td>562.5</td>\n",
       "      <td>3.6</td>\n",
       "    </tr>\n",
       "    <tr>\n",
       "      <th>Error</th>\n",
       "      <td>1250.0</td>\n",
       "      <td>8</td>\n",
       "      <td>156.25</td>\n",
       "      <td>NA</td>\n",
       "    </tr>\n",
       "    <tr>\n",
       "      <th>Total</th>\n",
       "      <td>1812.5</td>\n",
       "      <td>NA</td>\n",
       "      <td>NA</td>\n",
       "      <td>NA</td>\n",
       "    </tr>\n",
       "  </tbody>\n",
       "</table>\n",
       "</div>"
      ],
      "text/plain": [
       "             SS  df      MS    F\n",
       "Samples   562.5   1   562.5  3.6\n",
       "Error    1250.0   8  156.25   NA\n",
       "Total    1812.5  NA      NA   NA"
      ]
     },
     "execution_count": 114,
     "metadata": {},
     "output_type": "execute_result"
    }
   ],
   "source": [
    "# ANOVA Table\n",
    "dic1 = {'SS': [SS_B, SS_W, (SS_B+SS_W)], \n",
    "        'df': [df_B, df_W, 'NA'],\n",
    "        'MS': [MS_B, MS_W, 'NA'],\n",
    "        'F': [F_test, 'NA', 'NA']\n",
    "      }\n",
    "index = ['Samples', 'Error', 'Total'] \n",
    "ANOVA_table = pd.DataFrame(dic1, index=index)\n",
    "ANOVA_table"
   ]
  },
  {
   "cell_type": "code",
   "execution_count": 115,
   "id": "aa69475e",
   "metadata": {},
   "outputs": [
    {
     "data": {
      "text/plain": [
       "0.3103448275862069"
      ]
     },
     "execution_count": 115,
     "metadata": {},
     "output_type": "execute_result"
    }
   ],
   "source": [
    "# Effect size\n",
    "n_2= SS_B/(SS_B+SS_W)\n",
    "n_2"
   ]
  },
  {
   "cell_type": "raw",
   "id": "9bf7a9c7",
   "metadata": {},
   "source": [
    "Conclusion:\n",
    "F_critical(1,8) > F_test with 5% of significance level. This means that there is enough evidence to accept the H0. So, both μ are equal.\n",
    "\n",
    "APA writeup\n",
    "F(1, 8)=3.6 , p <0.05, n_2=0.31."
   ]
  }
 ],
 "metadata": {
  "kernelspec": {
   "display_name": "Python 3",
   "language": "python",
   "name": "python3"
  },
  "language_info": {
   "codemirror_mode": {
    "name": "ipython",
    "version": 3
   },
   "file_extension": ".py",
   "mimetype": "text/x-python",
   "name": "python",
   "nbconvert_exporter": "python",
   "pygments_lexer": "ipython3",
   "version": "3.8.5"
  }
 },
 "nbformat": 4,
 "nbformat_minor": 5
}
